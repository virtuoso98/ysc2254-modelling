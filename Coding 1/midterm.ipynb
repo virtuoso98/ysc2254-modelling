{
 "cells": [
  {
   "cell_type": "code",
   "execution_count": 20,
   "metadata": {},
   "outputs": [],
   "source": [
    "import random\n",
    "from pulp import *"
   ]
  },
  {
   "cell_type": "code",
   "execution_count": 25,
   "metadata": {},
   "outputs": [],
   "source": [
    "nonSleep = LpProblem(\"nonSleep\", LpMinimize) # max rest problem\n",
    "\n",
    "# mealtime variables\n",
    "mealMon = LpVariable(\"mealMon\", lowBound = 0) \n",
    "mealTue = LpVariable(\"mealTue\", lowBound = 0) \n",
    "mealWed = LpVariable(\"mealWed\", lowBound = 0) \n",
    "mealThu = LpVariable(\"mealThu\", lowBound = 0) \n",
    "mealFri = LpVariable(\"mealFri\", lowBound = 0) \n",
    "mealSat = LpVariable(\"mealSat\", lowBound = 0) \n",
    "mealSun = LpVariable(\"mealSun\", lowBound = 0) \n",
    "\n",
    "# Exercise variables\n",
    "leisureMon = LpVariable(\"leisureMon\", lowBound = 0) \n",
    "leisureTue = LpVariable(\"leisureTue\", lowBound = 0) \n",
    "leisureWed = LpVariable(\"leisureWed\", lowBound = 0) \n",
    "leisureThu = LpVariable(\"leisureThu\", lowBound = 0) \n",
    "leisureFri = LpVariable(\"leisureFri\", lowBound = 0) \n",
    "leisureSat = LpVariable(\"leisureSat\", lowBound = 0) \n",
    "leisureSun = LpVariable(\"leisureSun\", lowBound = 0) \n",
    "\n",
    "# commitment variables\n",
    "commitMon = LpVariable(\"commitMon\", lowBound = 0) \n",
    "commitTue = LpVariable(\"commitTue\", lowBound = 0) \n",
    "commitWed = LpVariable(\"commitWed\", lowBound = 0) \n",
    "commitThu = LpVariable(\"commitThu\", lowBound = 0) \n",
    "commitFri = LpVariable(\"commitFri\", lowBound = 0) \n",
    "commitSat = LpVariable(\"commitSat\", lowBound = 0) \n",
    "commitSun = LpVariable(\"commitSun\", lowBound = 0) \n",
    "\n",
    "# Work variables\n",
    "workMon = LpVariable(\"workMon\", lowBound = 0) \n",
    "workTue = LpVariable(\"workTue\", lowBound = 0) \n",
    "workWed = LpVariable(\"workWed\", lowBound = 0) \n",
    "workThu = LpVariable(\"workThu\", lowBound = 0) \n",
    "workFri = LpVariable(\"workFri\", lowBound = 0) \n",
    "workSat = LpVariable(\"workSat\", lowBound = 0) \n",
    "workSun = LpVariable(\"workSun\", lowBound = 0) \n"
   ]
  },
  {
   "cell_type": "code",
   "execution_count": 26,
   "metadata": {},
   "outputs": [],
   "source": [
    "# objective function\n",
    "nonSleep += mealMon + leisureMon + commitMon + workMon + mealTue + leisureTue + commitTue + workTue + mealWed + leisureWed + commitWed + workWed + mealThu + leisureThu + commitThu + workThu + mealFri + leisureFri + commitFri + workFri + mealSat + leisureSat + commitSat + workSat + mealSun + leisureSun + commitSun + workSun\n",
    "\n",
    "# total rest constraint (take 1)\n",
    "nonSleep += mealMon + leisureMon + commitMon + workMon + mealTue + leisureTue + commitTue + workTue + mealWed + leisureWed + commitWed + workWed + mealThu + leisureThu + commitThu + workThu + mealFri + leisureFri + commitFri + workFri + mealSat + leisureSat + commitSat + workSat + mealSun + leisureSun + commitSun + workSun <= 128\n",
    "\n",
    "# leisure constraints\n",
    "nonSleep += leisureMon + leisureTue + leisureWed + leisureThu + leisureFri + leisureSat + leisureSun >= 30\n",
    "nonSleep += leisureSun >= 6\n",
    "nonSleep += leisureSat >= 5\n",
    "nonSleep += leisureSat + leisureSun - leisureMon - leisureTue + leisureWed + leisureThu + leisureFri >= 0\n",
    "\n",
    "# commitment constraints\n",
    "nonSleep += commitMon >= 7.5\n",
    "nonSleep += commitTue >= 2.5\n",
    "nonSleep += commitWed >= 5\n",
    "nonSleep += commitThu >= 8.5\n",
    "nonSleep += commitFri >= 2.5\n",
    "nonSleep += commitSat >= 2\n",
    "nonSleep += commitSun >= 2\n",
    "\n",
    "# meal constraints\n",
    "nonSleep += mealMon >= 1 + random.uniform(0, 0.5)\n",
    "nonSleep += mealTue >= 1 + random.uniform(0, 0.5)\n",
    "nonSleep += mealWed >= 1 + random.uniform(0, 0.5)\n",
    "nonSleep += mealThu >= 1 + random.uniform(0, 0.5)\n",
    "nonSleep += mealFri >= 1 + random.uniform(0, 0.5)\n",
    "nonSleep += mealSat >= 1 + random.uniform(0, 0.5)\n",
    "nonSleep += mealSun >= 1 + random.uniform(0, 0.5)\n",
    "\n",
    "# work constraints\n",
    "nonSleep += workMon >= 5\n",
    "nonSleep += workTue >= 7\n",
    "nonSleep += workWed >= 4\n",
    "nonSleep += workThu >= 5\n",
    "nonSleep += workFri >= 7\n",
    "nonSleep += workSat >= 8\n",
    "nonSleep += workSun >= 8\n",
    "\n",
    "# relational constraints\n",
    "nonSleep += workSun - leisureSun - mealSun - commitSun >= 0\n",
    "nonSleep += workSat - leisureSat - mealSat - commitSat >= 0"
   ]
  },
  {
   "cell_type": "code",
   "execution_count": 27,
   "metadata": {},
   "outputs": [
    {
     "data": {
      "text/plain": [
       "nonSleep:\n",
       "MINIMIZE\n",
       "1*commitFri + 1*commitMon + 1*commitSat + 1*commitSun + 1*commitThu + 1*commitTue + 1*commitWed + 1*leisureFri + 1*leisureMon + 1*leisureSat + 1*leisureSun + 1*leisureThu + 1*leisureTue + 1*leisureWed + 1*mealFri + 1*mealMon + 1*mealSat + 1*mealSun + 1*mealThu + 1*mealTue + 1*mealWed + 1*workFri + 1*workMon + 1*workSat + 1*workSun + 1*workThu + 1*workTue + 1*workWed + 0\n",
       "SUBJECT TO\n",
       "_C1: commitFri + commitMon + commitSat + commitSun + commitThu + commitTue\n",
       " + commitWed + leisureFri + leisureMon + leisureSat + leisureSun + leisureThu\n",
       " + leisureTue + leisureWed + mealFri + mealMon + mealSat + mealSun + mealThu\n",
       " + mealTue + mealWed + workFri + workMon + workSat + workSun + workThu\n",
       " + workTue + workWed <= 128\n",
       "\n",
       "_C2: leisureFri + leisureMon + leisureSat + leisureSun + leisureThu\n",
       " + leisureTue + leisureWed >= 30\n",
       "\n",
       "_C3: leisureSun >= 6\n",
       "\n",
       "_C4: leisureSat >= 5\n",
       "\n",
       "_C5: leisureFri - leisureMon + leisureSat + leisureSun + leisureThu\n",
       " - leisureTue + leisureWed >= 0\n",
       "\n",
       "_C6: commitMon >= 7.5\n",
       "\n",
       "_C7: commitTue >= 2.5\n",
       "\n",
       "_C8: commitWed >= 5\n",
       "\n",
       "_C9: commitThu >= 8.5\n",
       "\n",
       "_C10: commitFri >= 2.5\n",
       "\n",
       "_C11: commitSat >= 2\n",
       "\n",
       "_C12: commitSun >= 2\n",
       "\n",
       "_C13: mealMon >= 1.10954323737\n",
       "\n",
       "_C14: mealTue >= 1.14283383085\n",
       "\n",
       "_C15: mealWed >= 1.30078027613\n",
       "\n",
       "_C16: mealThu >= 1.31456112342\n",
       "\n",
       "_C17: mealFri >= 1.28459077324\n",
       "\n",
       "_C18: mealSat >= 1.05354656511\n",
       "\n",
       "_C19: mealSun >= 1.2852143609\n",
       "\n",
       "_C20: workMon >= 5\n",
       "\n",
       "_C21: workTue >= 7\n",
       "\n",
       "_C22: workWed >= 4\n",
       "\n",
       "_C23: workThu >= 5\n",
       "\n",
       "_C24: workFri >= 7\n",
       "\n",
       "_C25: workSat >= 8\n",
       "\n",
       "_C26: workSun >= 8\n",
       "\n",
       "VARIABLES\n",
       "commitFri Continuous\n",
       "commitMon Continuous\n",
       "commitSat Continuous\n",
       "commitSun Continuous\n",
       "commitThu Continuous\n",
       "commitTue Continuous\n",
       "commitWed Continuous\n",
       "leisureFri Continuous\n",
       "leisureMon Continuous\n",
       "leisureSat Continuous\n",
       "leisureSun Continuous\n",
       "leisureThu Continuous\n",
       "leisureTue Continuous\n",
       "leisureWed Continuous\n",
       "mealFri Continuous\n",
       "mealMon Continuous\n",
       "mealSat Continuous\n",
       "mealSun Continuous\n",
       "mealThu Continuous\n",
       "mealTue Continuous\n",
       "mealWed Continuous\n",
       "workFri Continuous\n",
       "workMon Continuous\n",
       "workSat Continuous\n",
       "workSun Continuous\n",
       "workThu Continuous\n",
       "workTue Continuous\n",
       "workWed Continuous"
      ]
     },
     "execution_count": 27,
     "metadata": {},
     "output_type": "execute_result"
    }
   ],
   "source": [
    "nonSleep"
   ]
  },
  {
   "cell_type": "code",
   "execution_count": 28,
   "metadata": {},
   "outputs": [
    {
     "data": {
      "text/plain": [
       "'Optimal'"
      ]
     },
     "execution_count": 28,
     "metadata": {},
     "output_type": "execute_result"
    }
   ],
   "source": [
    "status = nonSleep.solve()\n",
    "LpStatus[status]"
   ]
  },
  {
   "cell_type": "code",
   "execution_count": 29,
   "metadata": {},
   "outputs": [
    {
     "data": {
      "text/plain": [
       "112.49106"
      ]
     },
     "execution_count": 29,
     "metadata": {},
     "output_type": "execute_result"
    }
   ],
   "source": [
    "value(nonSleep.objective)"
   ]
  },
  {
   "cell_type": "code",
   "execution_count": 31,
   "metadata": {},
   "outputs": [
    {
     "name": "stdout",
     "output_type": "stream",
     "text": [
      "commitFri: 2.5\n",
      "commitMon: 7.5\n",
      "commitSat: 2.0\n",
      "commitSun: 2.0\n",
      "commitThu: 8.5\n",
      "commitTue: 2.5\n",
      "commitWed: 5.0\n",
      "leisureFri: 19.0\n",
      "leisureMon: 0.0\n",
      "leisureSat: 5.0\n",
      "leisureSun: 6.0\n",
      "leisureThu: 0.0\n",
      "leisureTue: 0.0\n",
      "leisureWed: 0.0\n",
      "mealFri: 1.28459\n",
      "mealMon: 1.10954\n",
      "mealSat: 1.05355\n",
      "mealSun: 1.28521\n",
      "mealThu: 1.31456\n",
      "mealTue: 1.14283\n",
      "mealWed: 1.30078\n",
      "workFri: 7.0\n",
      "workMon: 5.0\n",
      "workSat: 8.0\n",
      "workSun: 8.0\n",
      "workThu: 5.0\n",
      "workTue: 7.0\n",
      "workWed: 4.0\n"
     ]
    }
   ],
   "source": [
    "for var in nonSleep.variables():\n",
    "    print(f\"{var.name}: {var.value()}\")"
   ]
  }
 ],
 "metadata": {
  "kernelspec": {
   "display_name": "Python 3",
   "language": "python",
   "name": "python3"
  },
  "language_info": {
   "codemirror_mode": {
    "name": "ipython",
    "version": 3
   },
   "file_extension": ".py",
   "mimetype": "text/x-python",
   "name": "python",
   "nbconvert_exporter": "python",
   "pygments_lexer": "ipython3",
   "version": "3.7.6"
  }
 },
 "nbformat": 4,
 "nbformat_minor": 4
}

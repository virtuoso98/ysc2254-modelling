{
 "cells": [
  {
   "cell_type": "code",
   "execution_count": 14,
   "metadata": {},
   "outputs": [],
   "source": [
    "from pulp import *"
   ]
  },
  {
   "cell_type": "code",
   "execution_count": 21,
   "metadata": {},
   "outputs": [],
   "source": [
    "prob = LpProblem(\"Profit\", LpMaximize) # max problem\n",
    "\n",
    "hfc = LpVariable(\"hfc\", lowBound = 0) \n",
    "lfc = LpVariable(\"lfc\", lowBound = 0)\n",
    "hfcr = LpVariable(\"hfcr\", lowBound = 0)\n",
    "lfcr = LpVariable(\"lfcr\", lowBound = 0)\n",
    "hfco = LpVariable(\"hfco\", lowBound = 0)\n",
    "lfco = LpVariable(\"lfco\", lowBound = 0)\n",
    "ccr = LpVariable(\"ccr\", lowBound = 0)\n",
    "cco = LpVariable(\"cco\", lowBound = 0)"
   ]
  },
  {
   "cell_type": "code",
   "execution_count": 22,
   "metadata": {},
   "outputs": [],
   "source": [
    "# objective function\n",
    "prob += -0.4*hfc - 0.4*lfc + 0.3*hfcr + 0.7*lfcr - 0.12*hfco + 0.28*lfco + 1.1*ccr + 0.68*cco\n",
    "\n",
    "# leq constraints\n",
    "prob += hfcr + lfcr + hfco + lfco + ccr + cco <= 3000\n",
    "prob += 0.9*hfco + 0.9*lfco + 0.9*cco <= 2000\n",
    "prob += hfcr + lfcr + ccr <= 1500\n",
    "\n",
    "# eq constraints\n",
    "prob += (-0.6)*hfc - 0.3*lfc + ccr + cco == 0\n",
    "\n",
    "#geq constraints\n",
    "prob += 0.25*hfco - 0.05*lfco >= 0\n",
    "prob += -0.4*hfcr - 0.4*lfcr + 0.6*ccr >= 0\n",
    "prob += 0.1*hfcr - 0.2*lfcr >= 0\n",
    "prob += -0.2*hfco - 0.2*lfco + 0.8*cco >= 0\n",
    "prob += hfcr + lfcr + ccr >= 1000\n",
    "prob += 0.9*(hfco + lfco + cco) >= 1000"
   ]
  },
  {
   "cell_type": "code",
   "execution_count": 23,
   "metadata": {},
   "outputs": [
    {
     "data": {
      "text/plain": [
       "Profit:\n",
       "MAXIMIZE\n",
       "0.68*cco + 1.1*ccr + -0.4*hfc + -0.12*hfco + 0.3*hfcr + -0.4*lfc + 0.28*lfco + 0.7*lfcr + 0.0\n",
       "SUBJECT TO\n",
       "_C1: cco + ccr + hfco + hfcr + lfco + lfcr <= 3000\n",
       "\n",
       "_C2: 0.9 cco + 0.9 hfco + 0.9 lfco <= 2000\n",
       "\n",
       "_C3: ccr + hfcr + lfcr <= 1500\n",
       "\n",
       "_C4: cco + ccr - 0.6 hfc - 0.3 lfc = 0\n",
       "\n",
       "_C5: 0.25 hfco - 0.05 lfco >= 0\n",
       "\n",
       "_C6: 0.6 ccr - 0.4 hfcr - 0.4 lfcr >= 0\n",
       "\n",
       "_C7: 0.1 hfcr - 0.2 lfcr >= 0\n",
       "\n",
       "_C8: 0.8 cco - 0.2 hfco - 0.2 lfco >= 0\n",
       "\n",
       "_C9: ccr + hfcr + lfcr >= 1000\n",
       "\n",
       "_C10: 0.9 cco + 0.9 hfco + 0.9 lfco >= 1000\n",
       "\n",
       "VARIABLES\n",
       "cco Continuous\n",
       "ccr Continuous\n",
       "hfc Continuous\n",
       "hfco Continuous\n",
       "hfcr Continuous\n",
       "lfc Continuous\n",
       "lfco Continuous\n",
       "lfcr Continuous"
      ]
     },
     "execution_count": 23,
     "metadata": {},
     "output_type": "execute_result"
    }
   ],
   "source": [
    "prob"
   ]
  },
  {
   "cell_type": "code",
   "execution_count": 24,
   "metadata": {},
   "outputs": [
    {
     "data": {
      "text/plain": [
       "'Optimal'"
      ]
     },
     "execution_count": 24,
     "metadata": {},
     "output_type": "execute_result"
    }
   ],
   "source": [
    "status = prob.solve()\n",
    "LpStatus[status]"
   ]
  },
  {
   "cell_type": "code",
   "execution_count": 27,
   "metadata": {},
   "outputs": [
    {
     "data": {
      "text/plain": [
       "910.0"
      ]
     },
     "execution_count": 27,
     "metadata": {},
     "output_type": "execute_result"
    }
   ],
   "source": [
    "value(prob.objective)"
   ]
  }
 ],
 "metadata": {
  "kernelspec": {
   "display_name": "Python 3",
   "language": "python",
   "name": "python3"
  },
  "language_info": {
   "codemirror_mode": {
    "name": "ipython",
    "version": 3
   },
   "file_extension": ".py",
   "mimetype": "text/x-python",
   "name": "python",
   "nbconvert_exporter": "python",
   "pygments_lexer": "ipython3",
   "version": "3.7.6"
  }
 },
 "nbformat": 4,
 "nbformat_minor": 4
}

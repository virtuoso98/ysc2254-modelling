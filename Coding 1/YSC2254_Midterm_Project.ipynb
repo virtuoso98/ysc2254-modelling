{
 "cells": [
  {
   "cell_type": "markdown",
   "metadata": {},
   "source": [
    "# A0149963M\n",
    "\n",
    "## Maximizing utility amidst hectic college life\n",
    "\n",
    "\n",
    "In this problem, we would like to maximize a utility function consisting of sleep, meal, leisure, work and commitments"
   ]
  },
  {
   "cell_type": "code",
   "execution_count": 350,
   "metadata": {},
   "outputs": [],
   "source": [
    "import random\n",
    "from pulp import *\n",
    "\n",
    "obj = LpProblem(\"obj\", LpMaximize) # maximization\n",
    "\n",
    "# sleep variables\n",
    "sleepMon = LpVariable(\"sleepMon\", lowBound = 0) \n",
    "sleepTue = LpVariable(\"sleepTue\", lowBound = 0) \n",
    "sleepWed = LpVariable(\"sleepWed\", lowBound = 0) \n",
    "sleepThu = LpVariable(\"sleepThu\", lowBound = 0) \n",
    "sleepFri = LpVariable(\"sleepFri\", lowBound = 0) \n",
    "sleepSat = LpVariable(\"sleepSat\", lowBound = 0) \n",
    "sleepSun = LpVariable(\"sleepSun\", lowBound = 0) \n",
    "\n",
    "# mealtime variables\n",
    "mealMon = LpVariable(\"mealMon\", lowBound = 0) \n",
    "mealTue = LpVariable(\"mealTue\", lowBound = 0) \n",
    "mealWed = LpVariable(\"mealWed\", lowBound = 0) \n",
    "mealThu = LpVariable(\"mealThu\", lowBound = 0) \n",
    "mealFri = LpVariable(\"mealFri\", lowBound = 0) \n",
    "mealSat = LpVariable(\"mealSat\", lowBound = 0) \n",
    "mealSun = LpVariable(\"mealSun\", lowBound = 0) \n",
    "\n",
    "# Exercise variables\n",
    "leisureMon = LpVariable(\"leisureMon\", lowBound = 0) \n",
    "leisureTue = LpVariable(\"leisureTue\", lowBound = 0) \n",
    "leisureWed = LpVariable(\"leisureWed\", lowBound = 0) \n",
    "leisureThu = LpVariable(\"leisureThu\", lowBound = 0) \n",
    "leisureFri = LpVariable(\"leisureFri\", lowBound = 0) \n",
    "leisureSat = LpVariable(\"leisureSat\", lowBound = 0) \n",
    "leisureSun = LpVariable(\"leisureSun\", lowBound = 0) \n",
    "\n",
    "# commitment variables\n",
    "commitMon = LpVariable(\"commitMon\", lowBound = 0) \n",
    "commitTue = LpVariable(\"commitTue\", lowBound = 0) \n",
    "commitWed = LpVariable(\"commitWed\", lowBound = 0) \n",
    "commitThu = LpVariable(\"commitThu\", lowBound = 0) \n",
    "commitFri = LpVariable(\"commitFri\", lowBound = 0) \n",
    "commitSat = LpVariable(\"commitSat\", lowBound = 0) \n",
    "commitSun = LpVariable(\"commitSun\", lowBound = 0) \n",
    "\n",
    "# Work variables\n",
    "workMon = LpVariable(\"workMon\", lowBound = 0) \n",
    "workTue = LpVariable(\"workTue\", lowBound = 0) \n",
    "workWed = LpVariable(\"workWed\", lowBound = 0) \n",
    "workThu = LpVariable(\"workThu\", lowBound = 0) \n",
    "workFri = LpVariable(\"workFri\", lowBound = 0) \n",
    "workSat = LpVariable(\"workSat\", lowBound = 0) \n",
    "workSun = LpVariable(\"workSun\", lowBound = 0) "
   ]
  },
  {
   "cell_type": "markdown",
   "metadata": {},
   "source": [
    "Objective function with decision variables in the form <activity><day>. These respective variables include the number of hours spent doing the respective activity in that particular day."
   ]
  },
  {
   "cell_type": "code",
   "execution_count": 351,
   "metadata": {},
   "outputs": [
    {
     "name": "stdout",
     "output_type": "stream",
     "text": [
      "obj:\n",
      "MAXIMIZE\n",
      "0.9*commitFri + 0.9*commitMon + 0.9*commitSat + 0.9*commitSun + 0.9*commitThu + 0.9*commitTue + 0.9*commitWed + 1.0*leisureFri + 1.0*leisureMon + 1.0*leisureSat + 1.0*leisureSun + 1.0*leisureThu + 1.0*leisureTue + 1.0*leisureWed + 0.8*mealFri + 0.8*mealMon + 0.8*mealSat + 0.8*mealSun + 0.8*mealThu + 0.8*mealTue + 0.8*mealWed + 1.1*sleepFri + 1.1*sleepMon + 1.1*sleepSat + 1.1*sleepSun + 1.1*sleepThu + 2.3*sleepTue + 1.1*sleepWed + 1.2*workFri + 1.2*workMon + 1.2*workSat + 1.2*workSun + 1.2*workThu + 1.2*workWed + 0.0\n",
      "VARIABLES\n",
      "commitFri Continuous\n",
      "commitMon Continuous\n",
      "commitSat Continuous\n",
      "commitSun Continuous\n",
      "commitThu Continuous\n",
      "commitTue Continuous\n",
      "commitWed Continuous\n",
      "leisureFri Continuous\n",
      "leisureMon Continuous\n",
      "leisureSat Continuous\n",
      "leisureSun Continuous\n",
      "leisureThu Continuous\n",
      "leisureTue Continuous\n",
      "leisureWed Continuous\n",
      "mealFri Continuous\n",
      "mealMon Continuous\n",
      "mealSat Continuous\n",
      "mealSun Continuous\n",
      "mealThu Continuous\n",
      "mealTue Continuous\n",
      "mealWed Continuous\n",
      "sleepFri Continuous\n",
      "sleepMon Continuous\n",
      "sleepSat Continuous\n",
      "sleepSun Continuous\n",
      "sleepThu Continuous\n",
      "sleepTue Continuous\n",
      "sleepWed Continuous\n",
      "workFri Continuous\n",
      "workMon Continuous\n",
      "workSat Continuous\n",
      "workSun Continuous\n",
      "workThu Continuous\n",
      "workWed Continuous\n",
      "\n"
     ]
    }
   ],
   "source": [
    "# objective function\n",
    "obj += 1.2 * (workMon + sleepTue + workWed + workThu + workFri + workSat + workSun) + 1.0 * (leisureMon + leisureTue + leisureWed + leisureThu + leisureFri + leisureSat + leisureSun) + 1.1 * (sleepMon + sleepTue + sleepWed + sleepThu + sleepFri + sleepSat + sleepSun) + 0.9 * (commitMon + commitTue + commitWed + commitThu + commitFri + commitSat + commitSun) + 0.8 * (mealMon + mealTue + mealWed + mealThu + mealFri + mealSat + mealSun)\n",
    "\n",
    "print(obj)"
   ]
  },
  {
   "cell_type": "markdown",
   "metadata": {},
   "source": [
    "Constraint that the sum of the hours spent in these activities in a day must equate to 24. A sanity check to make sure the algorithm doesn't actually go bust and give me ungodly sleeping hours!!"
   ]
  },
  {
   "cell_type": "code",
   "execution_count": 352,
   "metadata": {},
   "outputs": [],
   "source": [
    "obj += workMon + leisureMon + sleepMon + commitMon + mealMon == 24\n",
    "obj += workTue + leisureTue + sleepTue + commitTue + mealTue == 24\n",
    "obj += workWed + leisureWed + sleepWed + commitWed + mealWed == 24\n",
    "obj += workThu + leisureThu + sleepThu + commitThu + mealThu == 24\n",
    "obj += workFri + leisureFri + sleepFri + commitFri + mealFri == 24\n",
    "obj += workSat + leisureSat + sleepSat + commitSat + mealSat == 24\n",
    "obj += workSun + leisureSun + sleepSun + commitSun + mealSun == 24"
   ]
  },
  {
   "cell_type": "markdown",
   "metadata": {},
   "source": [
    "The next few constraints pertain to discrete constraints on individual variables. We first start out with commitment constraints. Commitments pertain to compulsory appointments like CCAs, Peer Tutoring Sessions, Church, Lessons or sending out of e-mails. These constraints are typically greater than or equal to in nature due to the binding nature of commitments."
   ]
  },
  {
   "cell_type": "code",
   "execution_count": 353,
   "metadata": {},
   "outputs": [],
   "source": [
    "# discrete constraints on commitment\n",
    "\n",
    "obj += commitMon >= 6.5\n",
    "obj += commitTue >= 2\n",
    "obj += commitWed >= 4\n",
    "obj += commitThu >= 9.0\n",
    "obj += commitFri >= 2\n",
    "obj += commitSat >= 3.5\n",
    "obj += commitSun >= 4.5\n",
    "\n",
    "# constraints on commitment on multiple days\n",
    "\n",
    "# on e-mailing + resumes, e-mails\n",
    "obj += commitMon + commitTue + commitWed + commitThu + commitFri >= 23.5 + 2\n",
    "\n",
    "# on variable family commitments (dinner, talk, errands)\n",
    "obj += commitSat + commitSun >= 8 + 3"
   ]
  },
  {
   "cell_type": "markdown",
   "metadata": {},
   "source": [
    "These suite of constraints relate to sleep. Indeed, it is a very important condition to meet! Sleep is important for a productive semester. There are a few nuances here:\n",
    "\n",
    "1. The total amount of sleep I need to have in a single week should be at least 48. That way, I feel well-rested to tackle the day. \n",
    "2. Sleep Stability constrains: The difference in the amount of time spent sleeping between 2 consecutive days should not exceed half an hour. If not properly kept, I feel like my productivity really slumps."
   ]
  },
  {
   "cell_type": "code",
   "execution_count": 354,
   "metadata": {},
   "outputs": [],
   "source": [
    "# sleep constraints\n",
    "\n",
    "obj += sleepMon + sleepTue + sleepWed + sleepThu + sleepFri + sleepSat + sleepSun >= 52.5\n",
    "obj += sleepSat >= 8\n",
    "obj += sleepSun >= 8\n",
    "\n",
    "# sleep stability constraints \n",
    "obj += sleepMon - sleepTue <= 0.6\n",
    "obj += sleepTue - sleepMon <= 0.6\n",
    "\n",
    "obj += sleepTue - sleepWed <= 0.6\n",
    "obj += sleepWed - sleepTue <= 0.6\n",
    "\n",
    "obj += sleepWed - sleepThu <= 0.6\n",
    "obj += sleepThu - sleepWed <= 0.6\n",
    "\n",
    "obj += sleepFri - sleepThu <= 0.6\n",
    "obj += sleepThu - sleepFri <= 0.6\n",
    "\n",
    "obj += sleepSat - sleepFri <= 0.6\n",
    "obj += sleepFri - sleepSat <= 0.6\n",
    "\n",
    "obj += sleepSun - sleepSat <= 0.6\n",
    "obj += sleepSat - sleepSun <= 0.6\n",
    "\n",
    "obj += sleepMon - sleepSun <= 0.6\n",
    "obj += sleepSun - sleepMon <= 0.6\n"
   ]
  },
  {
   "cell_type": "markdown",
   "metadata": {},
   "source": [
    "Work constraints placed per week. This has to do with how much time i spend doing work every week. This is every student's nightmare, but it is a responsibility that must be done. Some considerations for these things include:\n",
    "1. Don't really want to do too much work in the weekends. Maximum constraint is set here\n",
    "2. Weekly work must hit a certain quota for me to catch up with school\n",
    "3. I do work depending on how much spare time I have in that day. "
   ]
  },
  {
   "cell_type": "code",
   "execution_count": 355,
   "metadata": {},
   "outputs": [],
   "source": [
    "obj += workMon + workTue + workWed + workThu + workFri + workSat + workSun >= 35\n",
    "obj += workMon >= 4.5\n",
    "obj += workTue >= 7\n",
    "obj += workWed >= 4\n",
    "obj += workThu >= 2\n",
    "obj += workFri >= 7\n",
    "obj += workSat <= 3.5\n",
    "obj += workSun <= 4"
   ]
  },
  {
   "cell_type": "markdown",
   "metadata": {},
   "source": [
    "Ah, my favourite: leisures. I wish I could spent my time in leisure **forever**, but we know that is simply impossible. In thiis case, I am simply trying to maximize the amount of leisure time I have. \n",
    "\n",
    "The only explicit priority I have is that my Sundays and Saturdays must have a minimum amount of leisure. Since leisure is meant to be flexible, I will impose a lower limit every week that should be followed, but will not restrict which day to have leisure time."
   ]
  },
  {
   "cell_type": "code",
   "execution_count": 356,
   "metadata": {},
   "outputs": [],
   "source": [
    "# leisure constraints\n",
    "obj += leisureMon + leisureTue + leisureWed + leisureThu + leisureFri >= 15\n",
    "obj += leisureSun >= 6\n",
    "obj += leisureSat >= 5"
   ]
  },
  {
   "cell_type": "markdown",
   "metadata": {},
   "source": [
    "Last but notleast are the meal-based constraints. Frankly speaking, these are the least important constraints here."
   ]
  },
  {
   "cell_type": "code",
   "execution_count": 357,
   "metadata": {},
   "outputs": [],
   "source": [
    "# meal constraints\n",
    "obj += mealMon >= 1 \n",
    "obj += mealTue >= 1 \n",
    "obj += mealWed >= 1 \n",
    "obj += mealThu >= 1 \n",
    "obj += mealFri >= 1 \n",
    "obj += mealSat >= 1.5\n",
    "obj += mealSun >= 1.5 "
   ]
  },
  {
   "cell_type": "code",
   "execution_count": 358,
   "metadata": {},
   "outputs": [],
   "source": [
    "status = obj.solve()"
   ]
  },
  {
   "cell_type": "code",
   "execution_count": 359,
   "metadata": {},
   "outputs": [
    {
     "data": {
      "text/plain": [
       "'Optimal'"
      ]
     },
     "execution_count": 359,
     "metadata": {},
     "output_type": "execute_result"
    }
   ],
   "source": [
    "LpStatus[status]"
   ]
  },
  {
   "cell_type": "code",
   "execution_count": 360,
   "metadata": {},
   "outputs": [
    {
     "data": {
      "text/plain": [
       "179.54856800000005"
      ]
     },
     "execution_count": 360,
     "metadata": {},
     "output_type": "execute_result"
    }
   ],
   "source": [
    "value(obj.objective)"
   ]
  },
  {
   "cell_type": "code",
   "execution_count": 361,
   "metadata": {},
   "outputs": [
    {
     "name": "stdout",
     "output_type": "stream",
     "text": [
      "commitFri: 4.0\n",
      "commitMon: 6.5\n",
      "commitSat: 6.5\n",
      "commitSun: 4.5\n",
      "commitThu: 9.0\n",
      "commitTue: 2.0\n",
      "commitWed: 4.0\n",
      "leisureFri: 3.84286\n",
      "leisureMon: 2.64286\n",
      "leisureSat: 5.0\n",
      "leisureSun: 6.0\n",
      "leisureThu: 3.24286\n",
      "leisureTue: 4.04286\n",
      "leisureWed: 1.22857\n",
      "mealFri: 1.0\n",
      "mealMon: 1.0\n",
      "mealSat: 1.5\n",
      "mealSun: 1.5\n",
      "mealThu: 1.0\n",
      "mealTue: 1.0\n",
      "mealWed: 1.0\n",
      "sleepFri: 8.15714\n",
      "sleepMon: 9.35714\n",
      "sleepSat: 8.15714\n",
      "sleepSun: 8.75714\n",
      "sleepThu: 8.75714\n",
      "sleepTue: 9.95714\n",
      "sleepWed: 9.35714\n",
      "workFri: 7.0\n",
      "workMon: 4.5\n",
      "workSat: 2.84286\n",
      "workSun: 3.24286\n",
      "workThu: 2.0\n",
      "workTue: 7.0\n",
      "workWed: 8.41429\n"
     ]
    }
   ],
   "source": [
    "for var in obj.variables():\n",
    "    print(f\"{var.name}: {var.value()}\")"
   ]
  }
 ],
 "metadata": {
  "kernelspec": {
   "display_name": "Python 3",
   "language": "python",
   "name": "python3"
  },
  "language_info": {
   "codemirror_mode": {
    "name": "ipython",
    "version": 3
   },
   "file_extension": ".py",
   "mimetype": "text/x-python",
   "name": "python",
   "nbconvert_exporter": "python",
   "pygments_lexer": "ipython3",
   "version": "3.7.6"
  }
 },
 "nbformat": 4,
 "nbformat_minor": 4
}

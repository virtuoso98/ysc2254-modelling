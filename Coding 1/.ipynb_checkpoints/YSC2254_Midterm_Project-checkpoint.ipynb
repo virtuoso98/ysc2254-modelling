{
 "cells": [
  {
   "cell_type": "markdown",
   "metadata": {},
   "source": [
    "# A0149963M\n",
    "\n",
    "## Maximizing utility amidst hectic college life\n",
    "\n",
    "\n",
    "In this problem, we would like to maximize a utility function consisting of sleep, meal, leisure, work and commitments"
   ]
  },
  {
   "cell_type": "code",
   "execution_count": 29,
   "metadata": {},
   "outputs": [],
   "source": [
    "import random\n",
    "from pulp import *\n",
    "\n",
    "obj = LpProblem(\"obj\", LpMaximize) # maximization\n",
    "\n",
    "# sleep variables\n",
    "sleepMon = LpVariable(\"sleepMon\", lowBound = 0) \n",
    "sleepTue = LpVariable(\"sleepTue\", lowBound = 0) \n",
    "sleepWed = LpVariable(\"sleepWed\", lowBound = 0) \n",
    "sleepThu = LpVariable(\"sleepThu\", lowBound = 0) \n",
    "sleepFri = LpVariable(\"sleepFri\", lowBound = 0) \n",
    "sleepSat = LpVariable(\"sleepSat\", lowBound = 0) \n",
    "sleepSun = LpVariable(\"sleepSun\", lowBound = 0) \n",
    "\n",
    "# mealtime variables\n",
    "mealMon = LpVariable(\"mealMon\", lowBound = 0) \n",
    "mealTue = LpVariable(\"mealTue\", lowBound = 0) \n",
    "mealWed = LpVariable(\"mealWed\", lowBound = 0) \n",
    "mealThu = LpVariable(\"mealThu\", lowBound = 0) \n",
    "mealFri = LpVariable(\"mealFri\", lowBound = 0) \n",
    "mealSat = LpVariable(\"mealSat\", lowBound = 0) \n",
    "mealSun = LpVariable(\"mealSun\", lowBound = 0) \n",
    "\n",
    "# Exercise variables\n",
    "leisureMon = LpVariable(\"leisureMon\", lowBound = 0) \n",
    "leisureTue = LpVariable(\"leisureTue\", lowBound = 0) \n",
    "leisureWed = LpVariable(\"leisureWed\", lowBound = 0) \n",
    "leisureThu = LpVariable(\"leisureThu\", lowBound = 0) \n",
    "leisureFri = LpVariable(\"leisureFri\", lowBound = 0) \n",
    "leisureSat = LpVariable(\"leisureSat\", lowBound = 0) \n",
    "leisureSun = LpVariable(\"leisureSun\", lowBound = 0) \n",
    "\n",
    "# commitment variables\n",
    "commitMon = LpVariable(\"commitMon\", lowBound = 0) \n",
    "commitTue = LpVariable(\"commitTue\", lowBound = 0) \n",
    "commitWed = LpVariable(\"commitWed\", lowBound = 0) \n",
    "commitThu = LpVariable(\"commitThu\", lowBound = 0) \n",
    "commitFri = LpVariable(\"commitFri\", lowBound = 0) \n",
    "commitSat = LpVariable(\"commitSat\", lowBound = 0) \n",
    "commitSun = LpVariable(\"commitSun\", lowBound = 0) \n",
    "\n",
    "# Work variables\n",
    "workMon = LpVariable(\"workMon\", lowBound = 0) \n",
    "workTue = LpVariable(\"workTue\", lowBound = 0) \n",
    "workWed = LpVariable(\"workWed\", lowBound = 0) \n",
    "workThu = LpVariable(\"workThu\", lowBound = 0) \n",
    "workFri = LpVariable(\"workFri\", lowBound = 0) \n",
    "workSat = LpVariable(\"workSat\", lowBound = 0) \n",
    "workSun = LpVariable(\"workSun\", lowBound = 0) "
   ]
  },
  {
   "cell_type": "markdown",
   "metadata": {},
   "source": [
    "Objective function with decision variables in the form <activity><day>. These respective variables include the number of hours spent doing the respective activity in that particular day."
   ]
  },
  {
   "cell_type": "code",
   "execution_count": 41,
   "metadata": {},
   "outputs": [
    {
     "name": "stdout",
     "output_type": "stream",
     "text": [
      "obj:\n",
      "MAXIMIZE\n",
      "0.8*commitFri + 0.8*commitMon + 0.8*commitSat + 0.8*commitSun + 0.8*commitThu + 0.8*commitTue + 0.8*commitWed + 0.9*leisureFri + 0.9*leisureMon + 0.9*leisureSat + 0.9*leisureSun + 0.9*leisureThu + 0.9*leisureTue + 0.9*leisureWed + 0.7*mealFri + 0.7*mealMon + 0.7*mealSat + 0.7*mealSun + 0.7*mealThu + 0.7*mealTue + 0.7*mealWed + 1.2*sleepFri + 1.2*sleepMon + 1.2*sleepSat + 1.2*sleepSun + 1.2*sleepThu + 2.5*sleepTue + 1.2*sleepWed + 1.3*workFri + 1.3*workMon + 1.3*workSat + 1.3*workSun + 1.3*workThu + 1.3*workWed + 0.0\n",
      "SUBJECT TO\n",
      "_C1: commitMon + leisureMon + mealMon + sleepMon + workMon = 24\n",
      "\n",
      "_C2: commitTue + leisureTue + mealTue + sleepTue + workTue = 24\n",
      "\n",
      "_C3: commitWed + leisureWed + mealWed + sleepWed + workWed = 24\n",
      "\n",
      "_C4: commitThu + leisureThu + mealThu + sleepThu + workThu = 24\n",
      "\n",
      "_C5: commitFri + leisureFri + mealFri + sleepFri + workFri = 24\n",
      "\n",
      "_C6: commitSat + leisureSat + mealSat + sleepSat + workSat = 24\n",
      "\n",
      "_C7: commitSun + leisureSun + mealSun + sleepSun + workSun = 24\n",
      "\n",
      "_C8: commitMon >= 6.5\n",
      "\n",
      "_C9: commitTue >= 2\n",
      "\n",
      "_C10: commitWed >= 4\n",
      "\n",
      "_C11: commitThu >= 9\n",
      "\n",
      "_C12: commitFri >= 2\n",
      "\n",
      "_C13: commitSat >= 4\n",
      "\n",
      "_C14: commitSun >= 4\n",
      "\n",
      "_C15: commitFri + commitMon + commitThu + commitTue + commitWed >= 25.5\n",
      "\n",
      "_C16: commitSat + commitSun >= 11\n",
      "\n",
      "_C17: sleepFri + sleepMon + sleepSat + sleepSun + sleepThu + sleepTue\n",
      " + sleepWed >= 58\n",
      "\n",
      "_C18: sleepSat >= 8\n",
      "\n",
      "_C19: sleepSun >= 8\n",
      "\n",
      "_C20: workFri + workMon + workSat + workSun + workThu + workTue + workWed\n",
      " >= 50\n",
      "\n",
      "_C21: workMon >= 4.5\n",
      "\n",
      "_C22: workTue >= 7\n",
      "\n",
      "_C23: workWed >= 4\n",
      "\n",
      "_C24: workThu >= 2\n",
      "\n",
      "_C25: workFri >= 7\n",
      "\n",
      "_C26: workSat <= 3.5\n",
      "\n",
      "_C27: workSun <= 4\n",
      "\n",
      "_C28: leisureFri + leisureMon + leisureSat + leisureSun + leisureThu\n",
      " + leisureTue + leisureWed >= 20\n",
      "\n",
      "_C29: leisureSun >= 6\n",
      "\n",
      "_C30: leisureSat >= 5\n",
      "\n",
      "_C31: - commitSun - leisureSun - mealSun + workSun >= 0\n",
      "\n",
      "_C32: - commitSat - leisureSat - mealSat + workSat >= 0\n",
      "\n",
      "_C33: mealMon >= 1.2176435916\n",
      "\n",
      "_C34: mealTue >= 1.08034870855\n",
      "\n",
      "_C35: mealWed >= 1.14499919044\n",
      "\n",
      "_C36: mealThu >= 1.01118218282\n",
      "\n",
      "_C37: mealFri >= 1.15708293401\n",
      "\n",
      "_C38: mealSat >= 1.22135005994\n",
      "\n",
      "_C39: mealSun >= 1.24421045949\n",
      "\n",
      "VARIABLES\n",
      "commitFri Continuous\n",
      "commitMon Continuous\n",
      "commitSat Continuous\n",
      "commitSun Continuous\n",
      "commitThu Continuous\n",
      "commitTue Continuous\n",
      "commitWed Continuous\n",
      "leisureFri Continuous\n",
      "leisureMon Continuous\n",
      "leisureSat Continuous\n",
      "leisureSun Continuous\n",
      "leisureThu Continuous\n",
      "leisureTue Continuous\n",
      "leisureWed Continuous\n",
      "mealFri Continuous\n",
      "mealMon Continuous\n",
      "mealSat Continuous\n",
      "mealSun Continuous\n",
      "mealThu Continuous\n",
      "mealTue Continuous\n",
      "mealWed Continuous\n",
      "sleepFri Continuous\n",
      "sleepMon Continuous\n",
      "sleepSat Continuous\n",
      "sleepSun Continuous\n",
      "sleepThu Continuous\n",
      "sleepTue Continuous\n",
      "sleepWed Continuous\n",
      "workFri Continuous\n",
      "workMon Continuous\n",
      "workSat Continuous\n",
      "workSun Continuous\n",
      "workThu Continuous\n",
      "workTue Continuous\n",
      "workWed Continuous\n",
      "\n"
     ]
    },
    {
     "name": "stderr",
     "output_type": "stream",
     "text": [
      "C:\\Users\\clayd\\anaconda3\\lib\\site-packages\\pulp\\pulp.py:1530: UserWarning: Overwriting previously set objective.\n",
      "  warnings.warn(\"Overwriting previously set objective.\")\n"
     ]
    }
   ],
   "source": [
    "# objective function\n",
    "obj += 1.3 * (workMon + sleepTue + workWed + workThu + workFri + workSat + workSun) + 0.9 * (leisureMon + leisureTue + leisureWed + leisureThu + leisureFri + leisureSat + leisureSun) + 1.2 * (sleepMon + sleepTue + sleepWed + sleepThu + sleepFri + sleepSat + sleepSun) + 0.8 * (commitMon + commitTue + commitWed + commitThu + commitFri + commitSat + commitSun) + 0.7 * (mealMon + mealTue + mealWed + mealThu + mealFri + mealSat + mealSun)\n",
    "\n",
    "print(obj)"
   ]
  },
  {
   "cell_type": "markdown",
   "metadata": {},
   "source": [
    "Constraint that the sum of the hours spent in these activities in a day must equate to 24. A sanity check to make sure the algorithm doesn't actually go bust and give me ungodly sleeping hours!!"
   ]
  },
  {
   "cell_type": "code",
   "execution_count": 31,
   "metadata": {},
   "outputs": [],
   "source": [
    "obj += workMon + leisureMon + sleepMon + commitMon + mealMon == 24\n",
    "obj += workTue + leisureTue + sleepTue + commitTue + mealTue == 24\n",
    "obj += workWed + leisureWed + sleepWed + commitWed + mealWed == 24\n",
    "obj += workThu + leisureThu + sleepThu + commitThu + mealThu == 24\n",
    "obj += workFri + leisureFri + sleepFri + commitFri + mealFri == 24\n",
    "obj += workSat + leisureSat + sleepSat + commitSat + mealSat == 24\n",
    "obj += workSun + leisureSun + sleepSun + commitSun + mealSun == 24"
   ]
  },
  {
   "cell_type": "markdown",
   "metadata": {},
   "source": [
    "The next few constraints pertain to discrete constraints on individual variables. We first start out with commitment constraints. Commitments pertain to compulsory appointments like CCAs, Peer Tutoring Sessions, Church, Lessons or sending out of e-mails. These constraints are typically greater than or equal to in nature due to the binding nature of commitments."
   ]
  },
  {
   "cell_type": "code",
   "execution_count": 32,
   "metadata": {},
   "outputs": [],
   "source": [
    "# discrete constraints on commitment\n",
    "\n",
    "obj += commitMon >= 6.5\n",
    "obj += commitTue >= 2\n",
    "obj += commitWed >= 4\n",
    "obj += commitThu >= 9.0\n",
    "obj += commitFri >= 2\n",
    "obj += commitSat >= 4\n",
    "obj += commitSun >= 4\n",
    "\n",
    "# constraints on commitment on multiple days\n",
    "\n",
    "# on e-mailing + resumes, e-mails\n",
    "obj += commitMon + commitTue + commitWed + commitThu + commitFri >= 23.5 + 2\n",
    "\n",
    "# on variable family commitments (dinner, talk, errands)\n",
    "obj += commitSat + commitSun >= 11"
   ]
  },
  {
   "cell_type": "markdown",
   "metadata": {},
   "source": [
    "These suite of constraints relate to sleep. Indeed, it is a very important condition to meet! Sleep is important for a productive semester. There are a few nuances here:\n",
    "\n",
    "1. The total amount of sleep I need to have in a single week should be at least 48. That way, I feel well-rested to tackle the day. \n",
    "2. Sleep Stability constrains: The difference in the amount of time spent sleeping between 2 consecutive days should not exceed half an hour. If not properly kept, I feel like my productivity really slumps."
   ]
  },
  {
   "cell_type": "code",
   "execution_count": 33,
   "metadata": {},
   "outputs": [],
   "source": [
    "# sleep constraints\n",
    "\n",
    "obj += sleepMon + sleepTue + sleepWed + sleepThu + sleepFri + sleepSat + sleepSun >= 58\n",
    "obj += sleepSat >= 8\n",
    "obj += sleepSun >= 8\n",
    "\n",
    "# sleep stability constraints \n",
    "obj += sleepMon - sleepTue <= 0.5\n",
    "obj += sleepTue - sleepMon <= 0.5\n",
    "\n",
    "obj += sleepTue - sleepWed <= 0.5\n",
    "obj += sleepWed - sleepTue <= 0.5\n",
    "\n",
    "obj += sleepWed - sleepThu <= 0.5\n",
    "obj += sleepThu - sleepWed <= 0.5\n",
    "\n",
    "obj += sleepFri - sleepThu <= 0.5\n",
    "obj += sleepThu - sleepFri <= 0.5\n",
    "\n",
    "obj += sleepSat - sleepFri <= 0.5\n",
    "obj += sleepFri - sleepSat <= 0.5\n",
    "\n",
    "obj += sleepSun - sleepSat <= 0.5\n",
    "obj += sleepSat - sleepSun <= 0.5\n",
    "\n",
    "obj += sleepMon - sleepSun <= 0.5\n",
    "obj += sleepSun - sleepMon <= 0.5\n"
   ]
  },
  {
   "cell_type": "markdown",
   "metadata": {},
   "source": [
    "Work constraints placed per week. This has to do with how much time i spend doing work every week. This is every student's nightmare, but it is a responsibility that must be done. Some considerations for these things include:\n",
    "1. Don't really want to do too much work in the weekends. Maximum constraint is set here\n",
    "2. Weekly work must hit a certain quota for me to catch up with school\n",
    "3. I do work depending on how much spare time I have in that day. "
   ]
  },
  {
   "cell_type": "code",
   "execution_count": 34,
   "metadata": {},
   "outputs": [],
   "source": [
    "obj += workMon + workTue + workWed + workThu + workFri + workSat + workSun >= 50\n",
    "obj += workMon >= 4.5\n",
    "obj += workTue >= 7\n",
    "obj += workWed >= 4\n",
    "obj += workThu >= 2\n",
    "obj += workFri >= 7\n",
    "obj += workSat <= 3.5\n",
    "obj += workSun <= 4"
   ]
  },
  {
   "cell_type": "markdown",
   "metadata": {},
   "source": [
    "Ah, my favourite: leisures. I wish I could spent my time in leisure **forever**, but we know that is simply impossible. In thiis case, I am simply trying to maximize the amount of leisure time I have "
   ]
  },
  {
   "cell_type": "code",
   "execution_count": 35,
   "metadata": {},
   "outputs": [],
   "source": [
    "\n",
    "# leisure constraints\n",
    "obj += leisureMon + leisureTue + leisureWed + leisureThu + leisureFri + leisureSat + leisureSun >= 20\n",
    "obj += leisureSun >= 6\n",
    "obj += leisureSat >= 5\n",
    "\n",
    "# relational constraints\n",
    "obj += workSun - leisureSun - mealSun - commitSun >= 0\n",
    "obj += workSat - leisureSat - mealSat - commitSat >= 0"
   ]
  },
  {
   "cell_type": "markdown",
   "metadata": {},
   "source": [
    "Last but notleast are the meal-based constraints. Frankly speaking, these are the least important constraints here "
   ]
  },
  {
   "cell_type": "code",
   "execution_count": 36,
   "metadata": {},
   "outputs": [],
   "source": [
    "# meal constraints\n",
    "obj += mealMon >= 1 \n",
    "obj += mealTue >= 1 \n",
    "obj += mealWed >= 1 \n",
    "obj += mealThu >= 1 \n",
    "obj += mealFri >= 1 \n",
    "obj += mealSat >= 1 \n",
    "obj += mealSun >= 1 "
   ]
  },
  {
   "cell_type": "code",
   "execution_count": 37,
   "metadata": {},
   "outputs": [
    {
     "data": {
      "text/plain": [
       "obj:\n",
       "MAXIMIZE\n",
       "0.8*commitFri + 0.8*commitMon + 0.8*commitSat + 0.8*commitSun + 0.8*commitThu + 0.8*commitTue + 0.8*commitWed + 0.9*leisureFri + 0.9*leisureMon + 0.9*leisureSat + 0.9*leisureSun + 0.9*leisureThu + 0.9*leisureTue + 0.9*leisureWed + 0.7*mealFri + 0.7*mealMon + 0.7*mealSat + 0.7*mealSun + 0.7*mealThu + 0.7*mealTue + 0.7*mealWed + 1.2*sleepFri + 1.2*sleepMon + 1.2*sleepSat + 1.2*sleepSun + 1.2*sleepThu + 2.5*sleepTue + 1.2*sleepWed + 1.3*workFri + 1.3*workMon + 1.3*workSat + 1.3*workSun + 1.3*workThu + 1.3*workWed + 0.0\n",
       "SUBJECT TO\n",
       "_C1: commitMon + leisureMon + mealMon + sleepMon + workMon = 24\n",
       "\n",
       "_C2: commitTue + leisureTue + mealTue + sleepTue + workTue = 24\n",
       "\n",
       "_C3: commitWed + leisureWed + mealWed + sleepWed + workWed = 24\n",
       "\n",
       "_C4: commitThu + leisureThu + mealThu + sleepThu + workThu = 24\n",
       "\n",
       "_C5: commitFri + leisureFri + mealFri + sleepFri + workFri = 24\n",
       "\n",
       "_C6: commitSat + leisureSat + mealSat + sleepSat + workSat = 24\n",
       "\n",
       "_C7: commitSun + leisureSun + mealSun + sleepSun + workSun = 24\n",
       "\n",
       "_C8: commitMon >= 6.5\n",
       "\n",
       "_C9: commitTue >= 2\n",
       "\n",
       "_C10: commitWed >= 4\n",
       "\n",
       "_C11: commitThu >= 9\n",
       "\n",
       "_C12: commitFri >= 2\n",
       "\n",
       "_C13: commitSat >= 4\n",
       "\n",
       "_C14: commitSun >= 4\n",
       "\n",
       "_C15: commitFri + commitMon + commitThu + commitTue + commitWed >= 25.5\n",
       "\n",
       "_C16: commitSat + commitSun >= 11\n",
       "\n",
       "_C17: sleepFri + sleepMon + sleepSat + sleepSun + sleepThu + sleepTue\n",
       " + sleepWed >= 58\n",
       "\n",
       "_C18: sleepSat >= 8\n",
       "\n",
       "_C19: sleepSun >= 8\n",
       "\n",
       "_C20: workFri + workMon + workSat + workSun + workThu + workTue + workWed\n",
       " >= 50\n",
       "\n",
       "_C21: workMon >= 4.5\n",
       "\n",
       "_C22: workTue >= 7\n",
       "\n",
       "_C23: workWed >= 4\n",
       "\n",
       "_C24: workThu >= 2\n",
       "\n",
       "_C25: workFri >= 7\n",
       "\n",
       "_C26: workSat <= 3.5\n",
       "\n",
       "_C27: workSun <= 4\n",
       "\n",
       "_C28: leisureFri + leisureMon + leisureSat + leisureSun + leisureThu\n",
       " + leisureTue + leisureWed >= 20\n",
       "\n",
       "_C29: leisureSun >= 6\n",
       "\n",
       "_C30: leisureSat >= 5\n",
       "\n",
       "_C31: - commitSun - leisureSun - mealSun + workSun >= 0\n",
       "\n",
       "_C32: - commitSat - leisureSat - mealSat + workSat >= 0\n",
       "\n",
       "_C33: mealMon >= 1.2176435916\n",
       "\n",
       "_C34: mealTue >= 1.08034870855\n",
       "\n",
       "_C35: mealWed >= 1.14499919044\n",
       "\n",
       "_C36: mealThu >= 1.01118218282\n",
       "\n",
       "_C37: mealFri >= 1.15708293401\n",
       "\n",
       "_C38: mealSat >= 1.22135005994\n",
       "\n",
       "_C39: mealSun >= 1.24421045949\n",
       "\n",
       "VARIABLES\n",
       "commitFri Continuous\n",
       "commitMon Continuous\n",
       "commitSat Continuous\n",
       "commitSun Continuous\n",
       "commitThu Continuous\n",
       "commitTue Continuous\n",
       "commitWed Continuous\n",
       "leisureFri Continuous\n",
       "leisureMon Continuous\n",
       "leisureSat Continuous\n",
       "leisureSun Continuous\n",
       "leisureThu Continuous\n",
       "leisureTue Continuous\n",
       "leisureWed Continuous\n",
       "mealFri Continuous\n",
       "mealMon Continuous\n",
       "mealSat Continuous\n",
       "mealSun Continuous\n",
       "mealThu Continuous\n",
       "mealTue Continuous\n",
       "mealWed Continuous\n",
       "sleepFri Continuous\n",
       "sleepMon Continuous\n",
       "sleepSat Continuous\n",
       "sleepSun Continuous\n",
       "sleepThu Continuous\n",
       "sleepTue Continuous\n",
       "sleepWed Continuous\n",
       "workFri Continuous\n",
       "workMon Continuous\n",
       "workSat Continuous\n",
       "workSun Continuous\n",
       "workThu Continuous\n",
       "workTue Continuous\n",
       "workWed Continuous"
      ]
     },
     "execution_count": 37,
     "metadata": {},
     "output_type": "execute_result"
    }
   ],
   "source": [
    "obj"
   ]
  },
  {
   "cell_type": "code",
   "execution_count": 38,
   "metadata": {},
   "outputs": [
    {
     "data": {
      "text/plain": [
       "'Undefined'"
      ]
     },
     "execution_count": 38,
     "metadata": {},
     "output_type": "execute_result"
    }
   ],
   "source": [
    "status = obj.solve()\n",
    "LpStatus[status]"
   ]
  },
  {
   "cell_type": "code",
   "execution_count": 39,
   "metadata": {},
   "outputs": [
    {
     "data": {
      "text/plain": [
       "0.0"
      ]
     },
     "execution_count": 39,
     "metadata": {},
     "output_type": "execute_result"
    }
   ],
   "source": [
    "value(obj.objective)"
   ]
  },
  {
   "cell_type": "code",
   "execution_count": 40,
   "metadata": {},
   "outputs": [
    {
     "name": "stdout",
     "output_type": "stream",
     "text": [
      "commitFri: 0.0\n",
      "commitMon: 0.0\n",
      "commitSat: 0.0\n",
      "commitSun: 0.0\n",
      "commitThu: 0.0\n",
      "commitTue: 0.0\n",
      "commitWed: 0.0\n",
      "leisureFri: 0.0\n",
      "leisureMon: 0.0\n",
      "leisureSat: 0.0\n",
      "leisureSun: 0.0\n",
      "leisureThu: 0.0\n",
      "leisureTue: 0.0\n",
      "leisureWed: 0.0\n",
      "mealFri: 0.0\n",
      "mealMon: 0.0\n",
      "mealSat: 0.0\n",
      "mealSun: 0.0\n",
      "mealThu: 0.0\n",
      "mealTue: 0.0\n",
      "mealWed: 0.0\n",
      "sleepFri: 0.0\n",
      "sleepMon: 0.0\n",
      "sleepSat: 0.0\n",
      "sleepSun: 0.0\n",
      "sleepThu: 0.0\n",
      "sleepTue: 0.0\n",
      "sleepWed: 0.0\n",
      "workFri: 0.0\n",
      "workMon: 0.0\n",
      "workSat: 0.0\n",
      "workSun: 0.0\n",
      "workThu: 0.0\n",
      "workTue: 0.0\n",
      "workWed: 0.0\n"
     ]
    }
   ],
   "source": [
    "for var in obj.variables():\n",
    "    print(f\"{var.name}: {var.value()}\")"
   ]
  }
 ],
 "metadata": {
  "kernelspec": {
   "display_name": "Python 3",
   "language": "python",
   "name": "python3"
  },
  "language_info": {
   "codemirror_mode": {
    "name": "ipython",
    "version": 3
   },
   "file_extension": ".py",
   "mimetype": "text/x-python",
   "name": "python",
   "nbconvert_exporter": "python",
   "pygments_lexer": "ipython3",
   "version": "3.7.6"
  }
 },
 "nbformat": 4,
 "nbformat_minor": 4
}

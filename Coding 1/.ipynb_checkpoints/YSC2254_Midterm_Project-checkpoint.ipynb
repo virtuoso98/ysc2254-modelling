{
 "cells": [
  {
   "cell_type": "markdown",
   "metadata": {},
   "source": [
    "# A0149963M\n",
    "\n",
    "## Maximizing utility amidst hectic college life\n",
    "\n",
    "\n",
    "In this problem, we would like to maximize a utility function consisting of sleep, meal, leisure, work and commitments"
   ]
  },
  {
   "cell_type": "code",
   "execution_count": 7,
   "metadata": {},
   "outputs": [],
   "source": [
    "import random\n",
    "from pulp import *\n",
    "\n",
    "obj = LpProblem(\"obj\", LpMaximize) # maximization\n",
    "\n",
    "# sleep variables\n",
    "sleepMon = LpVariable(\"sleepMon\", lowBound = 0) \n",
    "sleepTue = LpVariable(\"sleepTue\", lowBound = 0) \n",
    "sleepWed = LpVariable(\"sleepWed\", lowBound = 0) \n",
    "sleepThu = LpVariable(\"sleepThu\", lowBound = 0) \n",
    "sleepFri = LpVariable(\"sleepFri\", lowBound = 0) \n",
    "sleepSat = LpVariable(\"sleepSat\", lowBound = 0) \n",
    "sleepSun = LpVariable(\"sleepSun\", lowBound = 0) \n",
    "\n",
    "# mealtime variables\n",
    "mealMon = LpVariable(\"mealMon\", lowBound = 0) \n",
    "mealTue = LpVariable(\"mealTue\", lowBound = 0) \n",
    "mealWed = LpVariable(\"mealWed\", lowBound = 0) \n",
    "mealThu = LpVariable(\"mealThu\", lowBound = 0) \n",
    "mealFri = LpVariable(\"mealFri\", lowBound = 0) \n",
    "mealSat = LpVariable(\"mealSat\", lowBound = 0) \n",
    "mealSun = LpVariable(\"mealSun\", lowBound = 0) \n",
    "\n",
    "# Exercise variables\n",
    "leisureMon = LpVariable(\"leisureMon\", lowBound = 0) \n",
    "leisureTue = LpVariable(\"leisureTue\", lowBound = 0) \n",
    "leisureWed = LpVariable(\"leisureWed\", lowBound = 0) \n",
    "leisureThu = LpVariable(\"leisureThu\", lowBound = 0) \n",
    "leisureFri = LpVariable(\"leisureFri\", lowBound = 0) \n",
    "leisureSat = LpVariable(\"leisureSat\", lowBound = 0) \n",
    "leisureSun = LpVariable(\"leisureSun\", lowBound = 0) \n",
    "\n",
    "# commitment variables\n",
    "commitMon = LpVariable(\"commitMon\", lowBound = 0) \n",
    "commitTue = LpVariable(\"commitTue\", lowBound = 0) \n",
    "commitWed = LpVariable(\"commitWed\", lowBound = 0) \n",
    "commitThu = LpVariable(\"commitThu\", lowBound = 0) \n",
    "commitFri = LpVariable(\"commitFri\", lowBound = 0) \n",
    "commitSat = LpVariable(\"commitSat\", lowBound = 0) \n",
    "commitSun = LpVariable(\"commitSun\", lowBound = 0) \n",
    "\n",
    "# Work variables\n",
    "workMon = LpVariable(\"workMon\", lowBound = 0) \n",
    "workTue = LpVariable(\"workTue\", lowBound = 0) \n",
    "workWed = LpVariable(\"workWed\", lowBound = 0) \n",
    "workThu = LpVariable(\"workThu\", lowBound = 0) \n",
    "workFri = LpVariable(\"workFri\", lowBound = 0) \n",
    "workSat = LpVariable(\"workSat\", lowBound = 0) \n",
    "workSun = LpVariable(\"workSun\", lowBound = 0) \n"
   ]
  },
  {
   "cell_type": "markdown",
   "metadata": {},
   "source": [
    "Objective function with decision variables in the form <activity><day>. These respective variables include the number of hours spent doing the respective activity in that particular day."
   ]
  },
  {
   "cell_type": "code",
   "execution_count": 16,
   "metadata": {},
   "outputs": [],
   "source": [
    "# objective function\n",
    "obj += 1.3 * (workMon + sleepTue + workWed + workThu + workFri + workSat + workSun) + 0.9 * (leisureMon + leisureTue + leisureWed + leisureThu + leisureFri + leisureSat + leisureSun) + 1.2 * (sleepMon + sleepTue + sleepWed + sleepThu + sleepFri + sleepSat + sleepSun) + 0.8 * (commitMon + commitTue + commitWed + commitThu + commitFri + commitSat + commitSun) + 0.7 * (mealMon + mealTue + mealWed + mealThu + mealFri + mealSat + mealSun)\n",
    "\n",
    "# print(obj)"
   ]
  },
  {
   "cell_type": "markdown",
   "metadata": {},
   "source": [
    "Constraint that the sum of the hours spent in these activities in a day must equate to 24. A sanity check to make sure the algorithm doesn't actually go bust and give me ungodly sleeping hours!!"
   ]
  },
  {
   "cell_type": "code",
   "execution_count": null,
   "metadata": {},
   "outputs": [],
   "source": [
    "obj += workMon + leisureMon + sleepMon + commitMon + mealMon = 24\n",
    "obj += workTue + leisureTue + sleepTue + commitTue + mealTue = 24\n",
    "obj += workWed + leisureWed + sleepWed + commitWed + mealWed = 24\n",
    "obj += workThu + leisureThu + sleepThu + commitThu + mealThu = 24\n",
    "obj += workFri + leisureFri + sleepFri + commitFri + mealFri = 24\n",
    "obj += workSat + leisureSat + sleepSat + commitSat + mealSat = 24\n",
    "obj += workSun + leisureSun + sleepSun + commitSun + mealSun = 24"
   ]
  },
  {
   "cell_type": "markdown",
   "metadata": {},
   "source": [
    "The next few constraints pertain to discrete constraints on individual variables. We first start out with commitment constraints. Commitments pertain to compulsory appointments like CCAs, Peer Tutoring Sessions, Church, Lessons or sending out of e-mails. These constraints are typically greater than or equal to in nature due to the binding nature of commitments."
   ]
  },
  {
   "cell_type": "code",
   "execution_count": 18,
   "metadata": {},
   "outputs": [],
   "source": [
    "# discrete constraints on commitment\n",
    "\n",
    "obj += commitMon >= 6.5\n",
    "obj += commitTue >= 2\n",
    "obj += commitWed >= 4\n",
    "obj += commitThu >= 9.0\n",
    "obj += commitFri >= 2\n",
    "obj += commitSat >= 4\n",
    "obj += commitSun >= 4\n",
    "\n",
    "# constraints on commitment on multiple days\n",
    "\n",
    "# on e-mailing + resumes, e-mails\n",
    "obj += commitMon + commitTue + commitWed + commitThu + commitFri >= 23.5 + 2\n",
    "\n",
    "# on variable family commitments (dinner, talk, errands)\n",
    "obj += commitSat + commitSun >= 11"
   ]
  },
  {
   "cell_type": "code",
   "execution_count": null,
   "metadata": {},
   "outputs": [],
   "source": [
    "# sleep constraints\n",
    "\n",
    "obj += sleepMon + sleepTue + sleepWed + sleepThu + sleepFri + sleepSat + sleepSun >= 56"
   ]
  },
  {
   "cell_type": "code",
   "execution_count": 6,
   "metadata": {},
   "outputs": [],
   "source": [
    "# sleep constraints?\n",
    "# min sleep constraints?\n",
    "# avg sleep?\n",
    "# not work more than 3 mores?\n",
    "\n",
    "\n",
    "# leisure constraints\n",
    "obj += leisureMon + leisureTue + leisureWed + leisureThu + leisureFri + leisureSat + leisureSun >= 30\n",
    "obj += leisureSun >= 6\n",
    "obj += leisureSat >= 5\n",
    "obj += leisureSat + leisureSun - leisureMon - leisureTue + leisureWed + leisureThu + leisureFri >= 0\n",
    "\n",
    "# commitment constraints\n",
    "obj += commitMon >= 7.5\n",
    "obj += commitTue >= 2.5\n",
    "obj += commitWed >= 5\n",
    "obj += commitThu >= 8.5\n",
    "obj += commitFri >= 2.5\n",
    "obj += commitSat >= 2\n",
    "obj += commitSun >= 2\n",
    "\n",
    "# meal constraints\n",
    "obj += mealMon >= 1 + random.uniform(0, 0.5)\n",
    "obj += mealTue >= 1 + random.uniform(0, 0.5)\n",
    "obj += mealWed >= 1 + random.uniform(0, 0.5)\n",
    "obj += mealThu >= 1 + random.uniform(0, 0.5)\n",
    "obj += mealFri >= 1 + random.uniform(0, 0.5)\n",
    "obj += mealSat >= 1 + random.uniform(0, 0.5)\n",
    "obj += mealSun >= 1 + random.uniform(0, 0.5)\n",
    "\n",
    "# work constraints\n",
    "obj += workMon >= 5\n",
    "obj += workTue >= 7\n",
    "obj += workWed >= 4\n",
    "obj += workThu >= 5\n",
    "obj += workFri >= 7\n",
    "obj += workSat >= 8\n",
    "obj += workSun >= 8\n",
    "\n",
    "# relational constraints\n",
    "obj += workSun - leisureSun - mealSun - commitSun >= 0\n",
    "obj += workSat - leisureSat - mealSat - commitSat >= 0"
   ]
  },
  {
   "cell_type": "code",
   "execution_count": null,
   "metadata": {},
   "outputs": [],
   "source": []
  },
  {
   "cell_type": "code",
   "execution_count": 27,
   "metadata": {},
   "outputs": [
    {
     "data": {
      "text/plain": [
       "nonSleep:\n",
       "MINIMIZE\n",
       "1*commitFri + 1*commitMon + 1*commitSat + 1*commitSun + 1*commitThu + 1*commitTue + 1*commitWed + 1*leisureFri + 1*leisureMon + 1*leisureSat + 1*leisureSun + 1*leisureThu + 1*leisureTue + 1*leisureWed + 1*mealFri + 1*mealMon + 1*mealSat + 1*mealSun + 1*mealThu + 1*mealTue + 1*mealWed + 1*workFri + 1*workMon + 1*workSat + 1*workSun + 1*workThu + 1*workTue + 1*workWed + 0\n",
       "SUBJECT TO\n",
       "_C1: commitFri + commitMon + commitSat + commitSun + commitThu + commitTue\n",
       " + commitWed + leisureFri + leisureMon + leisureSat + leisureSun + leisureThu\n",
       " + leisureTue + leisureWed + mealFri + mealMon + mealSat + mealSun + mealThu\n",
       " + mealTue + mealWed + workFri + workMon + workSat + workSun + workThu\n",
       " + workTue + workWed <= 128\n",
       "\n",
       "_C2: leisureFri + leisureMon + leisureSat + leisureSun + leisureThu\n",
       " + leisureTue + leisureWed >= 30\n",
       "\n",
       "_C3: leisureSun >= 6\n",
       "\n",
       "_C4: leisureSat >= 5\n",
       "\n",
       "_C5: leisureFri - leisureMon + leisureSat + leisureSun + leisureThu\n",
       " - leisureTue + leisureWed >= 0\n",
       "\n",
       "_C6: commitMon >= 7.5\n",
       "\n",
       "_C7: commitTue >= 2.5\n",
       "\n",
       "_C8: commitWed >= 5\n",
       "\n",
       "_C9: commitThu >= 8.5\n",
       "\n",
       "_C10: commitFri >= 2.5\n",
       "\n",
       "_C11: commitSat >= 2\n",
       "\n",
       "_C12: commitSun >= 2\n",
       "\n",
       "_C13: mealMon >= 1.10954323737\n",
       "\n",
       "_C14: mealTue >= 1.14283383085\n",
       "\n",
       "_C15: mealWed >= 1.30078027613\n",
       "\n",
       "_C16: mealThu >= 1.31456112342\n",
       "\n",
       "_C17: mealFri >= 1.28459077324\n",
       "\n",
       "_C18: mealSat >= 1.05354656511\n",
       "\n",
       "_C19: mealSun >= 1.2852143609\n",
       "\n",
       "_C20: workMon >= 5\n",
       "\n",
       "_C21: workTue >= 7\n",
       "\n",
       "_C22: workWed >= 4\n",
       "\n",
       "_C23: workThu >= 5\n",
       "\n",
       "_C24: workFri >= 7\n",
       "\n",
       "_C25: workSat >= 8\n",
       "\n",
       "_C26: workSun >= 8\n",
       "\n",
       "VARIABLES\n",
       "commitFri Continuous\n",
       "commitMon Continuous\n",
       "commitSat Continuous\n",
       "commitSun Continuous\n",
       "commitThu Continuous\n",
       "commitTue Continuous\n",
       "commitWed Continuous\n",
       "leisureFri Continuous\n",
       "leisureMon Continuous\n",
       "leisureSat Continuous\n",
       "leisureSun Continuous\n",
       "leisureThu Continuous\n",
       "leisureTue Continuous\n",
       "leisureWed Continuous\n",
       "mealFri Continuous\n",
       "mealMon Continuous\n",
       "mealSat Continuous\n",
       "mealSun Continuous\n",
       "mealThu Continuous\n",
       "mealTue Continuous\n",
       "mealWed Continuous\n",
       "workFri Continuous\n",
       "workMon Continuous\n",
       "workSat Continuous\n",
       "workSun Continuous\n",
       "workThu Continuous\n",
       "workTue Continuous\n",
       "workWed Continuous"
      ]
     },
     "execution_count": 27,
     "metadata": {},
     "output_type": "execute_result"
    }
   ],
   "source": [
    "nonSleep"
   ]
  },
  {
   "cell_type": "code",
   "execution_count": 28,
   "metadata": {},
   "outputs": [
    {
     "data": {
      "text/plain": [
       "'Optimal'"
      ]
     },
     "execution_count": 28,
     "metadata": {},
     "output_type": "execute_result"
    }
   ],
   "source": [
    "status = nonSleep.solve()\n",
    "LpStatus[status]"
   ]
  },
  {
   "cell_type": "code",
   "execution_count": 29,
   "metadata": {},
   "outputs": [
    {
     "data": {
      "text/plain": [
       "112.49106"
      ]
     },
     "execution_count": 29,
     "metadata": {},
     "output_type": "execute_result"
    }
   ],
   "source": [
    "value(nonSleep.objective)"
   ]
  },
  {
   "cell_type": "code",
   "execution_count": 31,
   "metadata": {},
   "outputs": [
    {
     "name": "stdout",
     "output_type": "stream",
     "text": [
      "commitFri: 2.5\n",
      "commitMon: 7.5\n",
      "commitSat: 2.0\n",
      "commitSun: 2.0\n",
      "commitThu: 8.5\n",
      "commitTue: 2.5\n",
      "commitWed: 5.0\n",
      "leisureFri: 19.0\n",
      "leisureMon: 0.0\n",
      "leisureSat: 5.0\n",
      "leisureSun: 6.0\n",
      "leisureThu: 0.0\n",
      "leisureTue: 0.0\n",
      "leisureWed: 0.0\n",
      "mealFri: 1.28459\n",
      "mealMon: 1.10954\n",
      "mealSat: 1.05355\n",
      "mealSun: 1.28521\n",
      "mealThu: 1.31456\n",
      "mealTue: 1.14283\n",
      "mealWed: 1.30078\n",
      "workFri: 7.0\n",
      "workMon: 5.0\n",
      "workSat: 8.0\n",
      "workSun: 8.0\n",
      "workThu: 5.0\n",
      "workTue: 7.0\n",
      "workWed: 4.0\n"
     ]
    }
   ],
   "source": [
    "for var in nonSleep.variables():\n",
    "    print(f\"{var.name}: {var.value()}\")"
   ]
  }
 ],
 "metadata": {
  "kernelspec": {
   "display_name": "Python 3",
   "language": "python",
   "name": "python3"
  },
  "language_info": {
   "codemirror_mode": {
    "name": "ipython",
    "version": 3
   },
   "file_extension": ".py",
   "mimetype": "text/x-python",
   "name": "python",
   "nbconvert_exporter": "python",
   "pygments_lexer": "ipython3",
   "version": "3.7.6"
  }
 },
 "nbformat": 4,
 "nbformat_minor": 4
}

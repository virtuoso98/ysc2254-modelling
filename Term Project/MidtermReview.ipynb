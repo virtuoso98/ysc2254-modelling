{
 "cells": [
  {
   "cell_type": "markdown",
   "metadata": {},
   "source": [
    "# Koa Zhao Yuan, A0149963M\n",
    "## Midterm Project Review\n",
    "\n",
    "In the midterm project, I explored how to optimize utility for school life. Now, I'd like to optimize utility for working life. In working life, I value stability in my routine. I'd like to ensure that the utility that I have each day is as close to constant as possible. As a result, I will define my optimization function as one that minimizes the variance of utility I get in each day."
   ]
  },
  {
   "cell_type": "code",
   "execution_count": 34,
   "metadata": {},
   "outputs": [],
   "source": [
    "import numpy as np\n",
    "from scipy.optimize import minimize"
   ]
  },
  {
   "cell_type": "code",
   "execution_count": 96,
   "metadata": {},
   "outputs": [],
   "source": [
    "def objective(x):\n",
    "    \"\"\"\n",
    "    Obj function calculates Variance and tries to\n",
    "    minimize it in the end. 35 decision variables-\n",
    "    Meal, Leisure, Commitment, Work and Sleep from\n",
    "    Monday to Sunday. \n",
    "    \"\"\"\n",
    "    var = 0\n",
    "    mean_util = 0\n",
    "    for i in range(35):\n",
    "        mean_util += x[i] * (1 + 0.05 * (i % 5))\n",
    "    mean_util /= 7\n",
    "    for j in range(7):\n",
    "        var_day = 0\n",
    "        for k in range(1, 6):\n",
    "            var_day += x[(j * 5) + k - 1] * (1 + 0.05 * ((k - 1) % 5))\n",
    "        \n",
    "        var += (var_day - mean_util) ** 2\n",
    "    return var / 7\n",
    "        "
   ]
  },
  {
   "cell_type": "markdown",
   "metadata": {},
   "source": [
    "These constraints reflect the minimal sleep constraints that must be met per day. As usual, the amount of time spent in each activity should be equivalent to 24 hours."
   ]
  },
  {
   "cell_type": "code",
   "execution_count": 97,
   "metadata": {},
   "outputs": [],
   "source": [
    "def sleep_aux(x, day):\n",
    "    total = 24\n",
    "    for i in range(5):\n",
    "        index = day * 5 + i\n",
    "        total -= x[i]\n",
    "    return total\n",
    "\n",
    "def sleep_mon(x):\n",
    "    return sleep_aux(x, 0)\n",
    "\n",
    "def sleep_tue(x):\n",
    "    return sleep_aux(x, 1)\n",
    "\n",
    "def sleep_wed(x):\n",
    "    return sleep_aux(x, 2)\n",
    "\n",
    "def sleep_thu(x):\n",
    "    return sleep_aux(x, 3)\n",
    "\n",
    "def sleep_fri(x):\n",
    "    return sleep_aux(x, 4)\n",
    "\n",
    "def sleep_sat(x):\n",
    "    return sleep_aux(x, 5)\n",
    "\n",
    "def sleep_sun(x):\n",
    "    return sleep_aux(x, 6)\n",
    "\n",
    "con1 = {'type': 'eq', 'fun': sleep_mon}\n",
    "con2 = {'type': 'eq', 'fun': sleep_tue}\n",
    "con3 = {'type': 'eq', 'fun': sleep_wed}\n",
    "con4 = {'type': 'eq', 'fun': sleep_thu}\n",
    "con5 = {'type': 'eq', 'fun': sleep_fri}\n",
    "con6 = {'type': 'eq', 'fun': sleep_sat}\n",
    "con7 = {'type': 'eq', 'fun': sleep_sun}"
   ]
  },
  {
   "cell_type": "markdown",
   "metadata": {},
   "source": [
    "We next move to more interesting constraints. We used to express a linear constraint that sleep should not deviate too much. Instead, let's do something a little more different: the variance of the sleep should not exceed 5hours."
   ]
  },
  {
   "cell_type": "code",
   "execution_count": null,
   "metadata": {},
   "outputs": [],
   "source": []
  },
  {
   "cell_type": "code",
   "execution_count": 99,
   "metadata": {},
   "outputs": [
    {
     "name": "stdout",
     "output_type": "stream",
     "text": [
      "[5.16225751 5.1703703  5.17848325 4.18659609 5.19470902 4.97295707\n",
      " 4.97160493 4.97025278 4.96890063 4.96754848 4.97295707 4.97160493\n",
      " 4.97025278 4.96890062 4.96754848 4.97295707 4.97160493 4.97025278\n",
      " 4.96890062 4.96754848 4.97295707 4.97160492 4.97025278 4.96890062\n",
      " 4.96754848 4.97295707 4.97160493 4.97025279 4.96890062 4.96754848\n",
      " 4.97295707 4.97160493 4.97025279 4.96890062 4.96754848]\n"
     ]
    },
    {
     "name": "stderr",
     "output_type": "stream",
     "text": [
      "C:\\Users\\user\\anaconda3\\lib\\site-packages\\scipy\\optimize\\_minimize.py:533: RuntimeWarning: Method BFGS cannot handle constraints nor bounds.\n",
      "  warn('Method %s cannot handle constraints nor bounds.' % method,\n"
     ]
    }
   ],
   "source": [
    "x0 = [5 for i in range(35)]\n",
    "x0[3] = 4\n",
    "b = (3.0, 7.0)\n",
    "bnds = tuple(b for i in range(35))\n",
    "cons = ([con1, con2, con3, con4, con5, con6, con7])\n",
    "solution = minimize(objective,x0,method='BFGS',\\\n",
    "                    bounds=bnds,constraints=cons)\n",
    "\n",
    "x = solution.x\n",
    "print(x)"
   ]
  },
  {
   "cell_type": "code",
   "execution_count": 100,
   "metadata": {},
   "outputs": [
    {
     "name": "stdout",
     "output_type": "stream",
     "text": [
      "Final SSE Objective: 1.1615448886469402e-16\n"
     ]
    }
   ],
   "source": [
    "print('Final SSE Objective: ' + str(objective(x)))"
   ]
  }
 ],
 "metadata": {
  "kernelspec": {
   "display_name": "Python 3",
   "language": "python",
   "name": "python3"
  },
  "language_info": {
   "codemirror_mode": {
    "name": "ipython",
    "version": 3
   },
   "file_extension": ".py",
   "mimetype": "text/x-python",
   "name": "python",
   "nbconvert_exporter": "python",
   "pygments_lexer": "ipython3",
   "version": "3.8.5"
  }
 },
 "nbformat": 4,
 "nbformat_minor": 4
}

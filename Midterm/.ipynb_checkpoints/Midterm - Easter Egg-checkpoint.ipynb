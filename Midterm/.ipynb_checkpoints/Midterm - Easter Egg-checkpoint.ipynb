{
 "cells": [
  {
   "cell_type": "markdown",
   "metadata": {},
   "source": [
    "# A0149963M\n",
    "\n",
    "## Maximizing utility amidst hectic college life\n",
    "\n",
    "\n",
    "In this problem, we would like to maximize a utility function consisting of sleep, meal, leisure, work and commitments"
   ]
  },
  {
   "cell_type": "code",
   "execution_count": 1,
   "metadata": {},
   "outputs": [],
   "source": [
    "import random\n",
    "from pulp import *\n",
    "\n",
    "obj = LpProblem(\"obj\", LpMaximize) # maximization\n",
    "\n",
    "# sleep variables\n",
    "sleepMon = LpVariable(\"sleepMon\", lowBound = 0) \n",
    "sleepTue = LpVariable(\"sleepTue\", lowBound = 0) \n",
    "sleepWed = LpVariable(\"sleepWed\", lowBound = 0) \n",
    "sleepThu = LpVariable(\"sleepThu\", lowBound = 0) \n",
    "sleepFri = LpVariable(\"sleepFri\", lowBound = 0) \n",
    "sleepSat = LpVariable(\"sleepSat\", lowBound = 0) \n",
    "sleepSun = LpVariable(\"sleepSun\", lowBound = 0) \n",
    "\n",
    "# mealtime variables\n",
    "mealMon = LpVariable(\"mealMon\", lowBound = 0) \n",
    "mealTue = LpVariable(\"mealTue\", lowBound = 0) \n",
    "mealWed = LpVariable(\"mealWed\", lowBound = 0) \n",
    "mealThu = LpVariable(\"mealThu\", lowBound = 0) \n",
    "mealFri = LpVariable(\"mealFri\", lowBound = 0) \n",
    "mealSat = LpVariable(\"mealSat\", lowBound = 0) \n",
    "mealSun = LpVariable(\"mealSun\", lowBound = 0) \n",
    "\n",
    "# Exercise variables\n",
    "leisureMon = LpVariable(\"leisureMon\", lowBound = 0) \n",
    "leisureTue = LpVariable(\"leisureTue\", lowBound = 0) \n",
    "leisureWed = LpVariable(\"leisureWed\", lowBound = 0) \n",
    "leisureThu = LpVariable(\"leisureThu\", lowBound = 0) \n",
    "leisureFri = LpVariable(\"leisureFri\", lowBound = 0) \n",
    "leisureSat = LpVariable(\"leisureSat\", lowBound = 0) \n",
    "leisureSun = LpVariable(\"leisureSun\", lowBound = 0) \n",
    "\n",
    "# commitment variables\n",
    "commitMon = LpVariable(\"commitMon\", lowBound = 0) \n",
    "commitTue = LpVariable(\"commitTue\", lowBound = 0) \n",
    "commitWed = LpVariable(\"commitWed\", lowBound = 0) \n",
    "commitThu = LpVariable(\"commitThu\", lowBound = 0) \n",
    "commitFri = LpVariable(\"commitFri\", lowBound = 0) \n",
    "commitSat = LpVariable(\"commitSat\", lowBound = 0) \n",
    "commitSun = LpVariable(\"commitSun\", lowBound = 0) \n",
    "\n",
    "# Work variables\n",
    "workMon = LpVariable(\"workMon\", lowBound = 0) \n",
    "workTue = LpVariable(\"workTue\", lowBound = 0) \n",
    "workWed = LpVariable(\"workWed\", lowBound = 0) \n",
    "workThu = LpVariable(\"workThu\", lowBound = 0) \n",
    "workFri = LpVariable(\"workFri\", lowBound = 0) \n",
    "workSat = LpVariable(\"workSat\", lowBound = 0) \n",
    "workSun = LpVariable(\"workSun\", lowBound = 0) "
   ]
  },
  {
   "cell_type": "markdown",
   "metadata": {},
   "source": [
    "Objective function with decision variables in the form (activity)(day). These respective variables include the number of hours spent doing the respective activity in that particular day. \n",
    "\n",
    "I'll change some stuff here! I'll change the coefficient of sleep to 1.05 and bump up the work coefficient to 1.25 and see where that takes me."
   ]
  },
  {
   "cell_type": "code",
   "execution_count": 2,
   "metadata": {},
   "outputs": [
    {
     "name": "stdout",
     "output_type": "stream",
     "text": [
      "obj:\n",
      "MAXIMIZE\n",
      "0.9*commitFri + 0.9*commitMon + 0.9*commitSat + 0.9*commitSun + 0.9*commitThu + 0.9*commitTue + 0.9*commitWed + 1.0*leisureFri + 1.0*leisureMon + 1.0*leisureSat + 1.0*leisureSun + 1.0*leisureThu + 1.0*leisureTue + 1.0*leisureWed + 0.8*mealFri + 0.8*mealMon + 0.8*mealSat + 0.8*mealSun + 0.8*mealThu + 0.8*mealTue + 0.8*mealWed + 1.05*sleepFri + 1.05*sleepMon + 1.05*sleepSat + 1.05*sleepSun + 1.05*sleepThu + 2.35*sleepTue + 1.05*sleepWed + 1.3*workFri + 1.3*workMon + 1.3*workSat + 1.3*workSun + 1.3*workThu + 1.3*workWed + 0.0\n",
      "VARIABLES\n",
      "commitFri Continuous\n",
      "commitMon Continuous\n",
      "commitSat Continuous\n",
      "commitSun Continuous\n",
      "commitThu Continuous\n",
      "commitTue Continuous\n",
      "commitWed Continuous\n",
      "leisureFri Continuous\n",
      "leisureMon Continuous\n",
      "leisureSat Continuous\n",
      "leisureSun Continuous\n",
      "leisureThu Continuous\n",
      "leisureTue Continuous\n",
      "leisureWed Continuous\n",
      "mealFri Continuous\n",
      "mealMon Continuous\n",
      "mealSat Continuous\n",
      "mealSun Continuous\n",
      "mealThu Continuous\n",
      "mealTue Continuous\n",
      "mealWed Continuous\n",
      "sleepFri Continuous\n",
      "sleepMon Continuous\n",
      "sleepSat Continuous\n",
      "sleepSun Continuous\n",
      "sleepThu Continuous\n",
      "sleepTue Continuous\n",
      "sleepWed Continuous\n",
      "workFri Continuous\n",
      "workMon Continuous\n",
      "workSat Continuous\n",
      "workSun Continuous\n",
      "workThu Continuous\n",
      "workWed Continuous\n",
      "\n"
     ]
    }
   ],
   "source": [
    "# objective function\n",
    "obj += 1.3 * (workMon + sleepTue + workWed + workThu + workFri + workSat + workSun) + 1.0 * (leisureMon + leisureTue + leisureWed + leisureThu + leisureFri + leisureSat + leisureSun) + 1.05 * (sleepMon + sleepTue + sleepWed + sleepThu + sleepFri + sleepSat + sleepSun) + 0.9 * (commitMon + commitTue + commitWed + commitThu + commitFri + commitSat + commitSun) + 0.8 * (mealMon + mealTue + mealWed + mealThu + mealFri + mealSat + mealSun)\n",
    "\n",
    "print(obj)"
   ]
  },
  {
   "cell_type": "markdown",
   "metadata": {},
   "source": [
    "Constraint that the sum of the hours spent in these activities in a day must equate to 24. A sanity check to make sure the algorithm doesn't actually go bust and give me ungodly sleeping hours!!"
   ]
  },
  {
   "cell_type": "code",
   "execution_count": 3,
   "metadata": {},
   "outputs": [],
   "source": [
    "obj += workMon + leisureMon + sleepMon + commitMon + mealMon == 24\n",
    "obj += workTue + leisureTue + sleepTue + commitTue + mealTue == 24\n",
    "obj += workWed + leisureWed + sleepWed + commitWed + mealWed == 24\n",
    "obj += workThu + leisureThu + sleepThu + commitThu + mealThu == 24\n",
    "obj += workFri + leisureFri + sleepFri + commitFri + mealFri == 24\n",
    "obj += workSat + leisureSat + sleepSat + commitSat + mealSat == 24\n",
    "obj += workSun + leisureSun + sleepSun + commitSun + mealSun == 24"
   ]
  },
  {
   "cell_type": "markdown",
   "metadata": {},
   "source": [
    "The next few constraints pertain to discrete constraints on individual variables. We first start out with commitment constraints. Commitments pertain to compulsory appointments like CCAs, Peer Tutoring Sessions, Church, Lessons or sending out of e-mails. These constraints are typically greater than or equal to in nature due to the binding nature of commitments."
   ]
  },
  {
   "cell_type": "code",
   "execution_count": 4,
   "metadata": {},
   "outputs": [],
   "source": [
    "# discrete constraints on commitment\n",
    "\n",
    "obj += commitMon >= 6.5\n",
    "obj += commitTue >= 2\n",
    "obj += commitWed >= 4\n",
    "obj += commitThu >= 9.0\n",
    "obj += commitFri >= 2\n",
    "obj += commitSat >= 3.5\n",
    "obj += commitSun >= 4.5\n",
    "\n",
    "# constraints on commitment on multiple days\n",
    "\n",
    "# on e-mailing + resumes, e-mails\n",
    "obj += commitMon + commitTue + commitWed + commitThu + commitFri >= 23.5 + 2\n",
    "\n",
    "# on variable family commitments (dinner, talk, errands)\n",
    "obj += commitSat + commitSun >= 8 + 3"
   ]
  },
  {
   "cell_type": "markdown",
   "metadata": {},
   "source": [
    "These suite of constraints relate to sleep. Indeed, it is a very important condition to meet! Sleep is important for a productive semester. There are a few nuances here:\n",
    "\n",
    "1. The total amount of sleep I need to have in a single week should be at least 48. That way, I feel well-rested to tackle the day. \n",
    "2. Sleep Stability constrains: The difference in the amount of time spent sleeping between 2 consecutive days should not exceed half an hour. If not properly kept, I feel like my productivity really slumps."
   ]
  },
  {
   "cell_type": "code",
   "execution_count": 5,
   "metadata": {},
   "outputs": [],
   "source": [
    "# sleep constraints\n",
    "\n",
    "obj += sleepMon + sleepTue + sleepWed + sleepThu + sleepFri + sleepSat + sleepSun >= 52.5\n",
    "obj += sleepSat >= 9\n",
    "obj += sleepSun >= 9\n"
   ]
  },
  {
   "cell_type": "markdown",
   "metadata": {},
   "source": [
    "Work constraints placed per week. This has to do with how much time i spend doing work every week. This is every student's nightmare, but it is a responsibility that must be done. Some considerations for these things include:\n",
    "1. Don't really want to do too much work in the weekends. Maximum constraint is set here\n",
    "2. Weekly work must hit a certain quota for me to catch up with school"
   ]
  },
  {
   "cell_type": "code",
   "execution_count": 6,
   "metadata": {},
   "outputs": [],
   "source": [
    "obj += workMon + workTue + workWed + workThu + workFri + workSat + workSun >= 30\n",
    "obj += workMon >= 4.5\n",
    "obj += workTue >= 7\n",
    "obj += workWed >= 4\n",
    "obj += workThu >= 2\n",
    "obj += workFri >= 7\n",
    "obj += workSat <= 2.5\n",
    "obj += workSun <= 3.0"
   ]
  },
  {
   "cell_type": "markdown",
   "metadata": {},
   "source": [
    "Ah, my favourite: leisures. I wish I could spent my time in leisure **forever**, but we know that is simply impossible. In thiis case, I am simply trying to maximize the amount of leisure time I have. \n",
    "\n",
    "The only explicit priority I have is that my Sundays and Saturdays must have a minimum amount of leisure. Since leisure is meant to be flexible, I will impose a lower limit every week that should be followed, but will not restrict which day to have leisure time."
   ]
  },
  {
   "cell_type": "code",
   "execution_count": 7,
   "metadata": {},
   "outputs": [],
   "source": [
    "# leisure constraints\n",
    "obj += leisureMon + leisureTue + leisureWed + leisureThu + leisureFri >= 15\n",
    "obj += leisureSun >= 6\n",
    "obj += leisureSat >= 5"
   ]
  },
  {
   "cell_type": "markdown",
   "metadata": {},
   "source": [
    "Last but notleast are the meal-based constraints. Frankly speaking, these are the least important constraints here."
   ]
  },
  {
   "cell_type": "code",
   "execution_count": 8,
   "metadata": {},
   "outputs": [],
   "source": [
    "# meal constraints\n",
    "obj += mealMon >= 1.5\n",
    "obj += mealTue >= 1\n",
    "obj += mealWed >= 1.5 \n",
    "obj += mealThu >= 1 \n",
    "obj += mealFri >= 1 \n",
    "obj += mealSat >= 2.0\n",
    "obj += mealSun >= 2.0 "
   ]
  },
  {
   "cell_type": "code",
   "execution_count": 9,
   "metadata": {},
   "outputs": [
    {
     "name": "stdout",
     "output_type": "stream",
     "text": [
      "obj:\n",
      "MAXIMIZE\n",
      "0.9*commitFri + 0.9*commitMon + 0.9*commitSat + 0.9*commitSun + 0.9*commitThu + 0.9*commitTue + 0.9*commitWed + 1.0*leisureFri + 1.0*leisureMon + 1.0*leisureSat + 1.0*leisureSun + 1.0*leisureThu + 1.0*leisureTue + 1.0*leisureWed + 0.8*mealFri + 0.8*mealMon + 0.8*mealSat + 0.8*mealSun + 0.8*mealThu + 0.8*mealTue + 0.8*mealWed + 1.05*sleepFri + 1.05*sleepMon + 1.05*sleepSat + 1.05*sleepSun + 1.05*sleepThu + 2.35*sleepTue + 1.05*sleepWed + 1.3*workFri + 1.3*workMon + 1.3*workSat + 1.3*workSun + 1.3*workThu + 1.3*workWed + 0.0\n",
      "SUBJECT TO\n",
      "_C1: commitMon + leisureMon + mealMon + sleepMon + workMon = 24\n",
      "\n",
      "_C2: commitTue + leisureTue + mealTue + sleepTue + workTue = 24\n",
      "\n",
      "_C3: commitWed + leisureWed + mealWed + sleepWed + workWed = 24\n",
      "\n",
      "_C4: commitThu + leisureThu + mealThu + sleepThu + workThu = 24\n",
      "\n",
      "_C5: commitFri + leisureFri + mealFri + sleepFri + workFri = 24\n",
      "\n",
      "_C6: commitSat + leisureSat + mealSat + sleepSat + workSat = 24\n",
      "\n",
      "_C7: commitSun + leisureSun + mealSun + sleepSun + workSun = 24\n",
      "\n",
      "_C8: commitMon >= 6.5\n",
      "\n",
      "_C9: commitTue >= 2\n",
      "\n",
      "_C10: commitWed >= 4\n",
      "\n",
      "_C11: commitThu >= 9\n",
      "\n",
      "_C12: commitFri >= 2\n",
      "\n",
      "_C13: commitSat >= 3.5\n",
      "\n",
      "_C14: commitSun >= 4.5\n",
      "\n",
      "_C15: commitFri + commitMon + commitThu + commitTue + commitWed >= 25.5\n",
      "\n",
      "_C16: commitSat + commitSun >= 11\n",
      "\n",
      "_C17: sleepFri + sleepMon + sleepSat + sleepSun + sleepThu + sleepTue\n",
      " + sleepWed >= 52.5\n",
      "\n",
      "_C18: sleepSat >= 9\n",
      "\n",
      "_C19: sleepSun >= 9\n",
      "\n",
      "_C20: workFri + workMon + workSat + workSun + workThu + workTue + workWed\n",
      " >= 30\n",
      "\n",
      "_C21: workMon >= 4.5\n",
      "\n",
      "_C22: workTue >= 7\n",
      "\n",
      "_C23: workWed >= 4\n",
      "\n",
      "_C24: workThu >= 2\n",
      "\n",
      "_C25: workFri >= 7\n",
      "\n",
      "_C26: workSat <= 2.5\n",
      "\n",
      "_C27: workSun <= 3\n",
      "\n",
      "_C28: leisureFri + leisureMon + leisureThu + leisureTue + leisureWed >= 15\n",
      "\n",
      "_C29: leisureSun >= 6\n",
      "\n",
      "_C30: leisureSat >= 5\n",
      "\n",
      "_C31: mealMon >= 1.5\n",
      "\n",
      "_C32: mealTue >= 1\n",
      "\n",
      "_C33: mealWed >= 1.5\n",
      "\n",
      "_C34: mealThu >= 1\n",
      "\n",
      "_C35: mealFri >= 1\n",
      "\n",
      "_C36: mealSat >= 2\n",
      "\n",
      "_C37: mealSun >= 2\n",
      "\n",
      "VARIABLES\n",
      "commitFri Continuous\n",
      "commitMon Continuous\n",
      "commitSat Continuous\n",
      "commitSun Continuous\n",
      "commitThu Continuous\n",
      "commitTue Continuous\n",
      "commitWed Continuous\n",
      "leisureFri Continuous\n",
      "leisureMon Continuous\n",
      "leisureSat Continuous\n",
      "leisureSun Continuous\n",
      "leisureThu Continuous\n",
      "leisureTue Continuous\n",
      "leisureWed Continuous\n",
      "mealFri Continuous\n",
      "mealMon Continuous\n",
      "mealSat Continuous\n",
      "mealSun Continuous\n",
      "mealThu Continuous\n",
      "mealTue Continuous\n",
      "mealWed Continuous\n",
      "sleepFri Continuous\n",
      "sleepMon Continuous\n",
      "sleepSat Continuous\n",
      "sleepSun Continuous\n",
      "sleepThu Continuous\n",
      "sleepTue Continuous\n",
      "sleepWed Continuous\n",
      "workFri Continuous\n",
      "workMon Continuous\n",
      "workSat Continuous\n",
      "workSun Continuous\n",
      "workThu Continuous\n",
      "workTue Continuous\n",
      "workWed Continuous\n",
      "\n"
     ]
    }
   ],
   "source": [
    "print(obj)"
   ]
  },
  {
   "cell_type": "code",
   "execution_count": 10,
   "metadata": {},
   "outputs": [
    {
     "name": "stdout",
     "output_type": "stream",
     "text": [
      "Optimal\n",
      "186.97499999999997\n"
     ]
    }
   ],
   "source": [
    "status = obj.solve()\n",
    "print(LpStatus[status])\n",
    "print(value(obj.objective))"
   ]
  },
  {
   "cell_type": "code",
   "execution_count": 11,
   "metadata": {},
   "outputs": [
    {
     "name": "stdout",
     "output_type": "stream",
     "text": [
      "commitFri: 4.0\n",
      "commitMon: 6.5\n",
      "commitSat: 6.5\n",
      "commitSun: 4.5\n",
      "commitThu: 9.0\n",
      "commitTue: 2.0\n",
      "commitWed: 4.0\n",
      "leisureFri: 12.0\n",
      "leisureMon: 3.0\n",
      "leisureSat: 5.0\n",
      "leisureSun: 6.0\n",
      "leisureThu: 0.0\n",
      "leisureTue: 0.0\n",
      "leisureWed: 0.0\n",
      "mealFri: 1.0\n",
      "mealMon: 1.5\n",
      "mealSat: 2.0\n",
      "mealSun: 2.0\n",
      "mealThu: 1.0\n",
      "mealTue: 1.0\n",
      "mealWed: 1.5\n",
      "sleepFri: 0.0\n",
      "sleepMon: 4.5\n",
      "sleepSat: 10.5\n",
      "sleepSun: 11.5\n",
      "sleepThu: 12.0\n",
      "sleepTue: 14.0\n",
      "sleepWed: 0.0\n",
      "workFri: 7.0\n",
      "workMon: 8.5\n",
      "workSat: 0.0\n",
      "workSun: 0.0\n",
      "workThu: 2.0\n",
      "workTue: 7.0\n",
      "workWed: 18.5\n"
     ]
    }
   ],
   "source": [
    "for var in obj.variables():\n",
    "    print(f\"{var.name}: {var.value()}\")"
   ]
  }
 ],
 "metadata": {
  "kernelspec": {
   "display_name": "Python 3",
   "language": "python",
   "name": "python3"
  },
  "language_info": {
   "codemirror_mode": {
    "name": "ipython",
    "version": 3
   },
   "file_extension": ".py",
   "mimetype": "text/x-python",
   "name": "python",
   "nbconvert_exporter": "python",
   "pygments_lexer": "ipython3",
   "version": "3.7.6"
  }
 },
 "nbformat": 4,
 "nbformat_minor": 4
}
